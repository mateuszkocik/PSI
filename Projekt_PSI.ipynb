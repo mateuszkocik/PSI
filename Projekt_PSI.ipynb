{
 "cells": [
  {
   "cell_type": "markdown",
   "id": "b5109d78",
   "metadata": {},
   "source": [
    "Projekt na bazie danych https://www.kaggle.com/jsphyg/weather-dataset-rattle-package. Zadanie polega na przewidzeniu czy następnego dnia w Australii będzie padał deszcz."
   ]
  },
  {
   "cell_type": "code",
   "execution_count": 3,
   "id": "ca0f3f30",
   "metadata": {},
   "outputs": [],
   "source": [
    "import numpy as np\n",
    "import pandas as pd\n",
    "import datetime\n",
    "import matplotlib.pyplot as plt\n",
    "import statsmodels.api as sm\n",
    "import random\n",
    "import matplotlib.pyplot as plt\n",
    "import seaborn as sns\n",
    "from sklearn.preprocessing import LabelEncoder\n",
    "from sklearn import preprocessing\n",
    "from sklearn.preprocessing import StandardScaler\n",
    "from sklearn.model_selection import train_test_split\n",
    "from sklearn.model_selection import GridSearchCV\n",
    "from sklearn.preprocessing import StandardScaler\n",
    "from sklearn.pipeline import Pipeline\n",
    "from sklearn.svm import SVC, LinearSVC\n",
    "from sklearn.linear_model import LogisticRegression\n",
    "from sklearn.neighbors import KNeighborsClassifier\n",
    "from sklearn.tree import DecisionTreeClassifier\n",
    "from sklearn.ensemble import RandomForestClassifier, ExtraTreesClassifier, BaggingClassifier, AdaBoostClassifier, GradientBoostingClassifier\n",
    "from sklearn.model_selection import StratifiedKFold\n",
    "from sklearn import metrics\n",
    "from sklearn.neural_network import MLPRegressor, MLPClassifier\n",
    "from keras.layers import Dense, BatchNormalization, Dropout, LSTM\n",
    "from keras.models import Sequential\n",
    "from keras.optimizers import Adam\n",
    "from keras import backend\n",
    "from keras.callbacks import History\n",
    "from keras import callbacks\n",
    "from keras.callbacks import EarlyStopping\n",
    "from sklearn.metrics import confusion_matrix\n",
    "from sklearn.metrics import plot_confusion_matrix"
   ]
  },
  {
   "cell_type": "markdown",
   "id": "ca37a5c3",
   "metadata": {},
   "source": [
    "# Opis kolumn"
   ]
  },
  {
   "cell_type": "markdown",
   "id": "11251527",
   "metadata": {},
   "source": [
    "| Column Name | Description |\n",
    "| :-: | :-: |\n",
    "| Date | The date of observation |\n",
    "| Location | The common name of the location of the weather station| \n",
    "| MinTemp |  The minimum temperature in degrees celsius | \n",
    "| MaxTemp |  The maximum temperature in degrees celsius| \n",
    "| Rainfall |  The amount of rainfall recorded for the day in mm| \n",
    "| Evaporation |  The so-called Class A pan evaporation (mm) in the 24 hours to 9am| \n",
    "| Sunshine |  The number of hours of bright sunshine in the day| \n",
    "| WindGustDir |  The direction of the strongest wind gust in the 24 hours to midnight| \n",
    "| WindGustSpeed |  The speed (km/h) of the strongest wind gust in the 24 hours to midnight| \n",
    "| WindDir9am |  Direction of the wind at 9am| \n",
    "| WindDir3pm |  Direction of the wind at 3pm| \n",
    "| WindSpeed9am |  Wind speed (km/hr) averaged over 10 minutes prior to 9am| \n",
    "| WindSpeed3pm |  Wind speed (km/hr) averaged over 10 minutes prior to 3pm| \n",
    "| Humidity9am |  Humidity (percent) at 9am| \n",
    "| Humidity3pm |  Humidity (percent) at 3pm| \n",
    "| Pressure9am |  Atmospheric pressure (hpa) reduced to mean sea level at 9am| \n",
    "| Pressure3pm | Atmospheric pressure (hpa) reduced to mean sea level at 3pm| \n",
    "| Cloud9am |  Fraction of sky obscured by cloud at 9am. This is measured in \"oktas\", which are a unit of eigths. It records how many eigths of the sky are obscured by cloud. A 0 measure indicates completely clear sky whilst an 8 indicates that it is completely overcast| \n",
    "| Cloud3pm |  Fraction of sky obscured by cloud (in \"oktas\": eighths) at 3pm. See Cload9am for a description of the values| \n",
    "| Temp9am |  Temperature (degrees C) at 9am| \n",
    "| Temp3pm |  Temperature (degrees C) at 3pm| \n",
    "| RainToday |  Boolean: 1 if precipitation (mm) in the 24 hours to 9am exceeds 1mm, otherwise 0| "
   ]
  },
  {
   "cell_type": "markdown",
   "id": "7e3eb9cb",
   "metadata": {},
   "source": [
    "# Pobranie i wyfiltrowanie danych"
   ]
  },
  {
   "cell_type": "code",
   "execution_count": 4,
   "id": "8cdecbce",
   "metadata": {},
   "outputs": [
    {
     "data": {
      "text/html": [
       "<div>\n",
       "<style scoped>\n",
       "    .dataframe tbody tr th:only-of-type {\n",
       "        vertical-align: middle;\n",
       "    }\n",
       "\n",
       "    .dataframe tbody tr th {\n",
       "        vertical-align: top;\n",
       "    }\n",
       "\n",
       "    .dataframe thead th {\n",
       "        text-align: right;\n",
       "    }\n",
       "</style>\n",
       "<table border=\"1\" class=\"dataframe\">\n",
       "  <thead>\n",
       "    <tr style=\"text-align: right;\">\n",
       "      <th></th>\n",
       "      <th>Date</th>\n",
       "      <th>Location</th>\n",
       "      <th>MinTemp</th>\n",
       "      <th>MaxTemp</th>\n",
       "      <th>Rainfall</th>\n",
       "      <th>Evaporation</th>\n",
       "      <th>Sunshine</th>\n",
       "      <th>WindGustDir</th>\n",
       "      <th>WindGustSpeed</th>\n",
       "      <th>WindDir9am</th>\n",
       "      <th>...</th>\n",
       "      <th>Humidity9am</th>\n",
       "      <th>Humidity3pm</th>\n",
       "      <th>Pressure9am</th>\n",
       "      <th>Pressure3pm</th>\n",
       "      <th>Cloud9am</th>\n",
       "      <th>Cloud3pm</th>\n",
       "      <th>Temp9am</th>\n",
       "      <th>Temp3pm</th>\n",
       "      <th>RainToday</th>\n",
       "      <th>RainTomorrow</th>\n",
       "    </tr>\n",
       "  </thead>\n",
       "  <tbody>\n",
       "    <tr>\n",
       "      <th>2133</th>\n",
       "      <td>2015-01-01</td>\n",
       "      <td>Albury</td>\n",
       "      <td>11.4</td>\n",
       "      <td>33.5</td>\n",
       "      <td>0.0</td>\n",
       "      <td>NaN</td>\n",
       "      <td>NaN</td>\n",
       "      <td>WSW</td>\n",
       "      <td>30.0</td>\n",
       "      <td>ESE</td>\n",
       "      <td>...</td>\n",
       "      <td>45.0</td>\n",
       "      <td>14.0</td>\n",
       "      <td>1013.5</td>\n",
       "      <td>1011.0</td>\n",
       "      <td>NaN</td>\n",
       "      <td>NaN</td>\n",
       "      <td>21.0</td>\n",
       "      <td>32.7</td>\n",
       "      <td>No</td>\n",
       "      <td>No</td>\n",
       "    </tr>\n",
       "    <tr>\n",
       "      <th>2134</th>\n",
       "      <td>2015-01-02</td>\n",
       "      <td>Albury</td>\n",
       "      <td>15.5</td>\n",
       "      <td>39.6</td>\n",
       "      <td>0.0</td>\n",
       "      <td>NaN</td>\n",
       "      <td>NaN</td>\n",
       "      <td>NE</td>\n",
       "      <td>56.0</td>\n",
       "      <td>ESE</td>\n",
       "      <td>...</td>\n",
       "      <td>45.0</td>\n",
       "      <td>12.0</td>\n",
       "      <td>1016.0</td>\n",
       "      <td>1012.4</td>\n",
       "      <td>NaN</td>\n",
       "      <td>NaN</td>\n",
       "      <td>25.6</td>\n",
       "      <td>38.2</td>\n",
       "      <td>No</td>\n",
       "      <td>No</td>\n",
       "    </tr>\n",
       "    <tr>\n",
       "      <th>2135</th>\n",
       "      <td>2015-01-03</td>\n",
       "      <td>Albury</td>\n",
       "      <td>17.1</td>\n",
       "      <td>38.3</td>\n",
       "      <td>0.0</td>\n",
       "      <td>NaN</td>\n",
       "      <td>NaN</td>\n",
       "      <td>NNE</td>\n",
       "      <td>48.0</td>\n",
       "      <td>NE</td>\n",
       "      <td>...</td>\n",
       "      <td>35.0</td>\n",
       "      <td>19.0</td>\n",
       "      <td>1017.9</td>\n",
       "      <td>1012.3</td>\n",
       "      <td>NaN</td>\n",
       "      <td>NaN</td>\n",
       "      <td>29.2</td>\n",
       "      <td>37.0</td>\n",
       "      <td>No</td>\n",
       "      <td>No</td>\n",
       "    </tr>\n",
       "    <tr>\n",
       "      <th>2136</th>\n",
       "      <td>2015-01-04</td>\n",
       "      <td>Albury</td>\n",
       "      <td>26.0</td>\n",
       "      <td>33.1</td>\n",
       "      <td>0.0</td>\n",
       "      <td>NaN</td>\n",
       "      <td>NaN</td>\n",
       "      <td>NNE</td>\n",
       "      <td>41.0</td>\n",
       "      <td>ESE</td>\n",
       "      <td>...</td>\n",
       "      <td>46.0</td>\n",
       "      <td>37.0</td>\n",
       "      <td>1013.6</td>\n",
       "      <td>1012.1</td>\n",
       "      <td>8.0</td>\n",
       "      <td>5.0</td>\n",
       "      <td>27.4</td>\n",
       "      <td>30.9</td>\n",
       "      <td>No</td>\n",
       "      <td>No</td>\n",
       "    </tr>\n",
       "    <tr>\n",
       "      <th>2137</th>\n",
       "      <td>2015-01-05</td>\n",
       "      <td>Albury</td>\n",
       "      <td>19.0</td>\n",
       "      <td>35.2</td>\n",
       "      <td>0.0</td>\n",
       "      <td>NaN</td>\n",
       "      <td>NaN</td>\n",
       "      <td>E</td>\n",
       "      <td>33.0</td>\n",
       "      <td>SSE</td>\n",
       "      <td>...</td>\n",
       "      <td>60.0</td>\n",
       "      <td>34.0</td>\n",
       "      <td>1017.4</td>\n",
       "      <td>1014.7</td>\n",
       "      <td>8.0</td>\n",
       "      <td>NaN</td>\n",
       "      <td>25.6</td>\n",
       "      <td>32.5</td>\n",
       "      <td>No</td>\n",
       "      <td>No</td>\n",
       "    </tr>\n",
       "  </tbody>\n",
       "</table>\n",
       "<p>5 rows × 23 columns</p>\n",
       "</div>"
      ],
      "text/plain": [
       "           Date Location  MinTemp  MaxTemp  Rainfall  Evaporation  Sunshine  \\\n",
       "2133 2015-01-01   Albury     11.4     33.5       0.0          NaN       NaN   \n",
       "2134 2015-01-02   Albury     15.5     39.6       0.0          NaN       NaN   \n",
       "2135 2015-01-03   Albury     17.1     38.3       0.0          NaN       NaN   \n",
       "2136 2015-01-04   Albury     26.0     33.1       0.0          NaN       NaN   \n",
       "2137 2015-01-05   Albury     19.0     35.2       0.0          NaN       NaN   \n",
       "\n",
       "     WindGustDir  WindGustSpeed WindDir9am  ... Humidity9am  Humidity3pm  \\\n",
       "2133         WSW           30.0        ESE  ...        45.0         14.0   \n",
       "2134          NE           56.0        ESE  ...        45.0         12.0   \n",
       "2135         NNE           48.0         NE  ...        35.0         19.0   \n",
       "2136         NNE           41.0        ESE  ...        46.0         37.0   \n",
       "2137           E           33.0        SSE  ...        60.0         34.0   \n",
       "\n",
       "      Pressure9am  Pressure3pm  Cloud9am  Cloud3pm  Temp9am  Temp3pm  \\\n",
       "2133       1013.5       1011.0       NaN       NaN     21.0     32.7   \n",
       "2134       1016.0       1012.4       NaN       NaN     25.6     38.2   \n",
       "2135       1017.9       1012.3       NaN       NaN     29.2     37.0   \n",
       "2136       1013.6       1012.1       8.0       5.0     27.4     30.9   \n",
       "2137       1017.4       1014.7       8.0       NaN     25.6     32.5   \n",
       "\n",
       "      RainToday  RainTomorrow  \n",
       "2133         No            No  \n",
       "2134         No            No  \n",
       "2135         No            No  \n",
       "2136         No            No  \n",
       "2137         No            No  \n",
       "\n",
       "[5 rows x 23 columns]"
      ]
     },
     "execution_count": 4,
     "metadata": {},
     "output_type": "execute_result"
    }
   ],
   "source": [
    "data = pd.read_csv('weatherAUS.csv')\n",
    "\n",
    "start_date = \"2015-01-01\"\n",
    "end_date = \"2015-01-31\"\n",
    "\n",
    "data['Date']= pd.to_datetime(data[\"Date\"])\n",
    "data = data.loc[(data[\"Date\"] >= start_date) & (data[\"Date\"] <= end_date)]\n",
    "data.head()\n"
   ]
  },
  {
   "cell_type": "markdown",
   "id": "121f73a3",
   "metadata": {},
   "source": [
    "# Przetwarzanie danych"
   ]
  },
  {
   "cell_type": "code",
   "execution_count": 5,
   "id": "2a6fdc3e",
   "metadata": {},
   "outputs": [
    {
     "name": "stdout",
     "output_type": "stream",
     "text": [
      "<class 'pandas.core.frame.DataFrame'>\n",
      "Int64Index: 1519 entries, 2133 to 144583\n",
      "Data columns (total 23 columns):\n",
      " #   Column         Non-Null Count  Dtype         \n",
      "---  ------         --------------  -----         \n",
      " 0   Date           1519 non-null   datetime64[ns]\n",
      " 1   Location       1519 non-null   object        \n",
      " 2   MinTemp        1492 non-null   float64       \n",
      " 3   MaxTemp        1492 non-null   float64       \n",
      " 4   Rainfall       1444 non-null   float64       \n",
      " 5   Evaporation    779 non-null    float64       \n",
      " 6   Sunshine       717 non-null    float64       \n",
      " 7   WindGustDir    1404 non-null   object        \n",
      " 8   WindGustSpeed  1404 non-null   float64       \n",
      " 9   WindDir9am     1436 non-null   object        \n",
      " 10  WindDir3pm     1476 non-null   object        \n",
      " 11  WindSpeed9am   1482 non-null   float64       \n",
      " 12  WindSpeed3pm   1481 non-null   float64       \n",
      " 13  Humidity9am    1492 non-null   float64       \n",
      " 14  Humidity3pm    1488 non-null   float64       \n",
      " 15  Pressure9am    1308 non-null   float64       \n",
      " 16  Pressure3pm    1307 non-null   float64       \n",
      " 17  Cloud9am       895 non-null    float64       \n",
      " 18  Cloud3pm       904 non-null    float64       \n",
      " 19  Temp9am        1492 non-null   float64       \n",
      " 20  Temp3pm        1488 non-null   float64       \n",
      " 21  RainToday      1444 non-null   object        \n",
      " 22  RainTomorrow   1444 non-null   object        \n",
      "dtypes: datetime64[ns](1), float64(16), object(6)\n",
      "memory usage: 284.8+ KB\n"
     ]
    }
   ],
   "source": [
    "data.info()"
   ]
  },
  {
   "cell_type": "code",
   "execution_count": 412,
   "id": "d4445348",
   "metadata": {},
   "outputs": [
    {
     "data": {
      "text/plain": [
       "<AxesSubplot:xlabel='RainTomorrow', ylabel='count'>"
      ]
     },
     "execution_count": 412,
     "metadata": {},
     "output_type": "execute_result"
    },
    {
     "data": {
      "image/png": "[encoded data removed]",
      "text/plain": [
       "<Figure size 432x288 with 1 Axes>"
      ]
     },
     "metadata": {
      "needs_background": "light"
     },
     "output_type": "display_data"
    }
   ],
   "source": [
    "sns.countplot(x= data[\"RainTomorrow\"])"
   ]
  },
  {
   "cell_type": "code",
   "execution_count": 413,
   "id": "e3a698f3",
   "metadata": {},
   "outputs": [
    {
     "data": {
      "text/plain": [
       "3.090651558073654"
      ]
     },
     "execution_count": 413,
     "metadata": {},
     "output_type": "execute_result"
    }
   ],
   "source": [
    "len(data[data.RainTomorrow == 'No'])/len(data[data.RainTomorrow == 'Yes'])"
   ]
  },
  {
   "cell_type": "markdown",
   "id": "28aec6e9",
   "metadata": {},
   "source": [
    "Jak można zauważyć z powyższego diagramu przeważnie następnego dnia nie ma deszczu."
   ]
  },
  {
   "cell_type": "markdown",
   "id": "0358d87f",
   "metadata": {},
   "source": [
    "### Wartości numeryczne"
   ]
  },
  {
   "cell_type": "markdown",
   "id": "5d501440",
   "metadata": {},
   "source": [
    "Wypisuję wszystkie kolumny z wartościami numerycznymi."
   ]
  },
  {
   "cell_type": "code",
   "execution_count": 414,
   "id": "67208b4a",
   "metadata": {},
   "outputs": [
    {
     "name": "stdout",
     "output_type": "stream",
     "text": [
      "Neumeric variables:\n",
      "['MinTemp', 'MaxTemp', 'Rainfall', 'Evaporation', 'Sunshine', 'WindGustSpeed', 'WindSpeed9am', 'WindSpeed3pm', 'Humidity9am', 'Humidity3pm', 'Pressure9am', 'Pressure3pm', 'Cloud9am', 'Cloud3pm', 'Temp9am', 'Temp3pm']\n"
     ]
    }
   ],
   "source": [
    "t = (data.dtypes == \"float64\")\n",
    "num_cols = list(t[t].index)\n",
    "\n",
    "print(\"Neumeric variables:\")\n",
    "print(num_cols)"
   ]
  },
  {
   "cell_type": "markdown",
   "id": "a5d194e7",
   "metadata": {},
   "source": [
    "Sprawdzam ile jest brakujących wartości w poszczególnych kolumnach."
   ]
  },
  {
   "cell_type": "code",
   "execution_count": 415,
   "id": "f8c8ea5e",
   "metadata": {},
   "outputs": [
    {
     "name": "stdout",
     "output_type": "stream",
     "text": [
      "MinTemp 27\n",
      "MaxTemp 27\n",
      "Rainfall 75\n",
      "Evaporation 740\n",
      "Sunshine 802\n",
      "WindGustSpeed 115\n",
      "WindSpeed9am 37\n",
      "WindSpeed3pm 38\n",
      "Humidity9am 27\n",
      "Humidity3pm 31\n",
      "Pressure9am 211\n",
      "Pressure3pm 212\n",
      "Cloud9am 624\n",
      "Cloud3pm 615\n",
      "Temp9am 27\n",
      "Temp3pm 31\n"
     ]
    }
   ],
   "source": [
    "for i in num_cols:\n",
    "    print(i, data[i].isnull().sum())"
   ]
  },
  {
   "cell_type": "markdown",
   "id": "673b9f9e",
   "metadata": {},
   "source": [
    "Sprawdzimy sobię teraz w których kolumnach jest najwięcej brakujących wartości"
   ]
  },
  {
   "cell_type": "code",
   "execution_count": 416,
   "id": "9ceb3b1d",
   "metadata": {},
   "outputs": [
    {
     "data": {
      "text/html": [
       "<div>\n",
       "<style scoped>\n",
       "    .dataframe tbody tr th:only-of-type {\n",
       "        vertical-align: middle;\n",
       "    }\n",
       "\n",
       "    .dataframe tbody tr th {\n",
       "        vertical-align: top;\n",
       "    }\n",
       "\n",
       "    .dataframe thead th {\n",
       "        text-align: right;\n",
       "    }\n",
       "</style>\n",
       "<table border=\"1\" class=\"dataframe\">\n",
       "  <thead>\n",
       "    <tr style=\"text-align: right;\">\n",
       "      <th></th>\n",
       "      <th>Total</th>\n",
       "      <th>Percent</th>\n",
       "    </tr>\n",
       "  </thead>\n",
       "  <tbody>\n",
       "    <tr>\n",
       "      <th>Sunshine</th>\n",
       "      <td>802</td>\n",
       "      <td>0.527979</td>\n",
       "    </tr>\n",
       "    <tr>\n",
       "      <th>Evaporation</th>\n",
       "      <td>740</td>\n",
       "      <td>0.487163</td>\n",
       "    </tr>\n",
       "    <tr>\n",
       "      <th>Cloud9am</th>\n",
       "      <td>624</td>\n",
       "      <td>0.410797</td>\n",
       "    </tr>\n",
       "    <tr>\n",
       "      <th>Cloud3pm</th>\n",
       "      <td>615</td>\n",
       "      <td>0.404872</td>\n",
       "    </tr>\n",
       "    <tr>\n",
       "      <th>Pressure3pm</th>\n",
       "      <td>212</td>\n",
       "      <td>0.139566</td>\n",
       "    </tr>\n",
       "    <tr>\n",
       "      <th>Pressure9am</th>\n",
       "      <td>211</td>\n",
       "      <td>0.138907</td>\n",
       "    </tr>\n",
       "    <tr>\n",
       "      <th>WindGustSpeed</th>\n",
       "      <td>115</td>\n",
       "      <td>0.075708</td>\n",
       "    </tr>\n",
       "    <tr>\n",
       "      <th>Rainfall</th>\n",
       "      <td>75</td>\n",
       "      <td>0.049375</td>\n",
       "    </tr>\n",
       "    <tr>\n",
       "      <th>WindSpeed3pm</th>\n",
       "      <td>38</td>\n",
       "      <td>0.025016</td>\n",
       "    </tr>\n",
       "    <tr>\n",
       "      <th>WindSpeed9am</th>\n",
       "      <td>37</td>\n",
       "      <td>0.024358</td>\n",
       "    </tr>\n",
       "    <tr>\n",
       "      <th>Humidity3pm</th>\n",
       "      <td>31</td>\n",
       "      <td>0.020408</td>\n",
       "    </tr>\n",
       "    <tr>\n",
       "      <th>Temp3pm</th>\n",
       "      <td>31</td>\n",
       "      <td>0.020408</td>\n",
       "    </tr>\n",
       "    <tr>\n",
       "      <th>MinTemp</th>\n",
       "      <td>27</td>\n",
       "      <td>0.017775</td>\n",
       "    </tr>\n",
       "    <tr>\n",
       "      <th>MaxTemp</th>\n",
       "      <td>27</td>\n",
       "      <td>0.017775</td>\n",
       "    </tr>\n",
       "    <tr>\n",
       "      <th>Humidity9am</th>\n",
       "      <td>27</td>\n",
       "      <td>0.017775</td>\n",
       "    </tr>\n",
       "    <tr>\n",
       "      <th>Temp9am</th>\n",
       "      <td>27</td>\n",
       "      <td>0.017775</td>\n",
       "    </tr>\n",
       "  </tbody>\n",
       "</table>\n",
       "</div>"
      ],
      "text/plain": [
       "               Total   Percent\n",
       "Sunshine         802  0.527979\n",
       "Evaporation      740  0.487163\n",
       "Cloud9am         624  0.410797\n",
       "Cloud3pm         615  0.404872\n",
       "Pressure3pm      212  0.139566\n",
       "Pressure9am      211  0.138907\n",
       "WindGustSpeed    115  0.075708\n",
       "Rainfall          75  0.049375\n",
       "WindSpeed3pm      38  0.025016\n",
       "WindSpeed9am      37  0.024358\n",
       "Humidity3pm       31  0.020408\n",
       "Temp3pm           31  0.020408\n",
       "MinTemp           27  0.017775\n",
       "MaxTemp           27  0.017775\n",
       "Humidity9am       27  0.017775\n",
       "Temp9am           27  0.017775"
      ]
     },
     "execution_count": 416,
     "metadata": {},
     "output_type": "execute_result"
    }
   ],
   "source": [
    "data_num = (data[num_cols])\n",
    "total_num = data_num.isnull().sum().sort_values(ascending=False)\n",
    "percent_num = (data_num.isnull().sum()/data_num.isnull().count()).sort_values(ascending=False)\n",
    "missing_num = pd.concat([total_num, percent_num], axis=1, keys=['Total', 'Percent'])\n",
    "missing_num"
   ]
  },
  {
   "cell_type": "markdown",
   "id": "f8134fcf",
   "metadata": {},
   "source": [
    "Widzimy że kolumny Sunshine, Evaporation, Cloud3pm oraz Cloud9am mają największą liczbę brakujących danych. Po analizie danych zauważyłem że w poszczególnych lokalizacjach najprawdopodobniej brakuje odpowiednich przyrządów pomiarowych lub pomiary nie zostały wykonane. Zamiast pominięcia tych wartości 4 kolumn postanowiłem uzupełnić je średnią przypadającą na dany dzień."
   ]
  },
  {
   "cell_type": "code",
   "execution_count": 417,
   "id": "f57e9d83",
   "metadata": {},
   "outputs": [
    {
     "data": {
      "text/html": [
       "<div>\n",
       "<style scoped>\n",
       "    .dataframe tbody tr th:only-of-type {\n",
       "        vertical-align: middle;\n",
       "    }\n",
       "\n",
       "    .dataframe tbody tr th {\n",
       "        vertical-align: top;\n",
       "    }\n",
       "\n",
       "    .dataframe thead th {\n",
       "        text-align: right;\n",
       "    }\n",
       "</style>\n",
       "<table border=\"1\" class=\"dataframe\">\n",
       "  <thead>\n",
       "    <tr style=\"text-align: right;\">\n",
       "      <th></th>\n",
       "      <th>Date</th>\n",
       "      <th>MinTemp</th>\n",
       "      <th>MaxTemp</th>\n",
       "      <th>Rainfall</th>\n",
       "      <th>Evaporation</th>\n",
       "      <th>Sunshine</th>\n",
       "      <th>WindGustSpeed</th>\n",
       "      <th>WindSpeed9am</th>\n",
       "      <th>WindSpeed3pm</th>\n",
       "      <th>Humidity9am</th>\n",
       "      <th>Humidity3pm</th>\n",
       "      <th>Pressure9am</th>\n",
       "      <th>Pressure3pm</th>\n",
       "      <th>Cloud9am</th>\n",
       "      <th>Cloud3pm</th>\n",
       "      <th>Temp9am</th>\n",
       "      <th>Temp3pm</th>\n",
       "    </tr>\n",
       "  </thead>\n",
       "  <tbody>\n",
       "    <tr>\n",
       "      <th>0</th>\n",
       "      <td>2015-01-01</td>\n",
       "      <td>16.591667</td>\n",
       "      <td>30.795918</td>\n",
       "      <td>4.762500</td>\n",
       "      <td>8.312000</td>\n",
       "      <td>9.859091</td>\n",
       "      <td>38.847826</td>\n",
       "      <td>13.468085</td>\n",
       "      <td>16.617021</td>\n",
       "      <td>60.208333</td>\n",
       "      <td>42.562500</td>\n",
       "      <td>1012.637209</td>\n",
       "      <td>1010.276744</td>\n",
       "      <td>4.607143</td>\n",
       "      <td>4.037037</td>\n",
       "      <td>22.933333</td>\n",
       "      <td>29.008333</td>\n",
       "    </tr>\n",
       "    <tr>\n",
       "      <th>1</th>\n",
       "      <td>2015-01-02</td>\n",
       "      <td>18.242857</td>\n",
       "      <td>33.177551</td>\n",
       "      <td>1.353191</td>\n",
       "      <td>7.973913</td>\n",
       "      <td>9.222727</td>\n",
       "      <td>43.288889</td>\n",
       "      <td>14.250000</td>\n",
       "      <td>19.804348</td>\n",
       "      <td>59.918367</td>\n",
       "      <td>41.645833</td>\n",
       "      <td>1013.765116</td>\n",
       "      <td>1011.393023</td>\n",
       "      <td>5.178571</td>\n",
       "      <td>4.888889</td>\n",
       "      <td>24.797959</td>\n",
       "      <td>31.054167</td>\n",
       "    </tr>\n",
       "    <tr>\n",
       "      <th>2</th>\n",
       "      <td>2015-01-03</td>\n",
       "      <td>19.716327</td>\n",
       "      <td>33.397959</td>\n",
       "      <td>0.736170</td>\n",
       "      <td>11.226087</td>\n",
       "      <td>8.513636</td>\n",
       "      <td>49.288889</td>\n",
       "      <td>16.510638</td>\n",
       "      <td>24.255319</td>\n",
       "      <td>54.714286</td>\n",
       "      <td>39.979167</td>\n",
       "      <td>1014.200000</td>\n",
       "      <td>1011.060465</td>\n",
       "      <td>4.333333</td>\n",
       "      <td>4.840000</td>\n",
       "      <td>26.416327</td>\n",
       "      <td>31.220833</td>\n",
       "    </tr>\n",
       "    <tr>\n",
       "      <th>3</th>\n",
       "      <td>2015-01-04</td>\n",
       "      <td>18.655102</td>\n",
       "      <td>30.075510</td>\n",
       "      <td>5.817021</td>\n",
       "      <td>10.427273</td>\n",
       "      <td>8.922727</td>\n",
       "      <td>45.222222</td>\n",
       "      <td>16.319149</td>\n",
       "      <td>18.042553</td>\n",
       "      <td>64.367347</td>\n",
       "      <td>47.183673</td>\n",
       "      <td>1014.976744</td>\n",
       "      <td>1012.702326</td>\n",
       "      <td>4.769231</td>\n",
       "      <td>4.250000</td>\n",
       "      <td>23.114286</td>\n",
       "      <td>28.055102</td>\n",
       "    </tr>\n",
       "    <tr>\n",
       "      <th>4</th>\n",
       "      <td>2015-01-05</td>\n",
       "      <td>18.187755</td>\n",
       "      <td>29.720408</td>\n",
       "      <td>2.929167</td>\n",
       "      <td>12.707692</td>\n",
       "      <td>8.220833</td>\n",
       "      <td>41.066667</td>\n",
       "      <td>16.416667</td>\n",
       "      <td>18.520833</td>\n",
       "      <td>64.755102</td>\n",
       "      <td>52.653061</td>\n",
       "      <td>1015.804651</td>\n",
       "      <td>1013.990698</td>\n",
       "      <td>5.677419</td>\n",
       "      <td>5.379310</td>\n",
       "      <td>23.002041</td>\n",
       "      <td>27.722449</td>\n",
       "    </tr>\n",
       "  </tbody>\n",
       "</table>\n",
       "</div>"
      ],
      "text/plain": [
       "        Date    MinTemp    MaxTemp  Rainfall  Evaporation  Sunshine  \\\n",
       "0 2015-01-01  16.591667  30.795918  4.762500     8.312000  9.859091   \n",
       "1 2015-01-02  18.242857  33.177551  1.353191     7.973913  9.222727   \n",
       "2 2015-01-03  19.716327  33.397959  0.736170    11.226087  8.513636   \n",
       "3 2015-01-04  18.655102  30.075510  5.817021    10.427273  8.922727   \n",
       "4 2015-01-05  18.187755  29.720408  2.929167    12.707692  8.220833   \n",
       "\n",
       "   WindGustSpeed  WindSpeed9am  WindSpeed3pm  Humidity9am  Humidity3pm  \\\n",
       "0      38.847826     13.468085     16.617021    60.208333    42.562500   \n",
       "1      43.288889     14.250000     19.804348    59.918367    41.645833   \n",
       "2      49.288889     16.510638     24.255319    54.714286    39.979167   \n",
       "3      45.222222     16.319149     18.042553    64.367347    47.183673   \n",
       "4      41.066667     16.416667     18.520833    64.755102    52.653061   \n",
       "\n",
       "   Pressure9am  Pressure3pm  Cloud9am  Cloud3pm    Temp9am    Temp3pm  \n",
       "0  1012.637209  1010.276744  4.607143  4.037037  22.933333  29.008333  \n",
       "1  1013.765116  1011.393023  5.178571  4.888889  24.797959  31.054167  \n",
       "2  1014.200000  1011.060465  4.333333  4.840000  26.416327  31.220833  \n",
       "3  1014.976744  1012.702326  4.769231  4.250000  23.114286  28.055102  \n",
       "4  1015.804651  1013.990698  5.677419  5.379310  23.002041  27.722449  "
      ]
     },
     "execution_count": 417,
     "metadata": {},
     "output_type": "execute_result"
    }
   ],
   "source": [
    "mean_values = data.groupby(data[\"Date\"]).mean().reset_index(drop=False)\n",
    "mean_values.head()"
   ]
  },
  {
   "cell_type": "code",
   "execution_count": 391,
   "id": "d6c9b39b",
   "metadata": {},
   "outputs": [],
   "source": [
    "date_range = pd.date_range(start_date, end_date)\n",
    "i = 0\n",
    "for day in date_range:\n",
    "    day = day.strftime(\"%Y-%m-%d\")\n",
    "    data.loc[data['Date'] == day, 'Sunshine'] = data.loc[data['Date'] == day, 'Sunshine'].fillna(mean_values.loc[mean_values['Date'] == day]['Sunshine'][i])\n",
    "    data.loc[data['Date'] == day, 'Evaporation'] = data.loc[data['Date'] == day, 'Evaporation'].fillna(mean_values.loc[mean_values['Date'] == day]['Evaporation'][i])\n",
    "    data.loc[data['Date'] == day, 'Cloud3pm'] = data.loc[data['Date'] == day, 'Cloud3pm'].fillna(mean_values.loc[mean_values['Date'] == day]['Cloud3pm'][i])\n",
    "    data.loc[data['Date'] == day, 'Cloud9am'] = data.loc[data['Date'] == day, 'Cloud9am'].fillna(mean_values.loc[mean_values['Date'] == day]['Cloud9am'][i])\n",
    "    i = i+1"
   ]
  },
  {
   "cell_type": "markdown",
   "id": "cab85de6",
   "metadata": {},
   "source": [
    "W pozostałych kolumnach uzupełniam brakujące wartości medianą"
   ]
  },
  {
   "cell_type": "code",
   "execution_count": 418,
   "id": "dbd07be1",
   "metadata": {},
   "outputs": [],
   "source": [
    "for i in num_cols:\n",
    "    data[i].fillna(data[i].median(), inplace=True)"
   ]
  },
  {
   "cell_type": "markdown",
   "id": "de0ed033",
   "metadata": {},
   "source": [
    "Sprawdzamy czy jeszcze jakieś wartości są nieuzupełnione"
   ]
  },
  {
   "cell_type": "code",
   "execution_count": 419,
   "id": "ca426b54",
   "metadata": {},
   "outputs": [
    {
     "name": "stdout",
     "output_type": "stream",
     "text": [
      "MinTemp 0\n",
      "MaxTemp 0\n",
      "Rainfall 0\n",
      "Evaporation 0\n",
      "Sunshine 0\n",
      "WindGustSpeed 0\n",
      "WindSpeed9am 0\n",
      "WindSpeed3pm 0\n",
      "Humidity9am 0\n",
      "Humidity3pm 0\n",
      "Pressure9am 0\n",
      "Pressure3pm 0\n",
      "Cloud9am 0\n",
      "Cloud3pm 0\n",
      "Temp9am 0\n",
      "Temp3pm 0\n"
     ]
    }
   ],
   "source": [
    "for i in num_cols:\n",
    "    print(i, data[i].isnull().sum())"
   ]
  },
  {
   "cell_type": "markdown",
   "id": "5d836819",
   "metadata": {},
   "source": [
    "### Wartości kategoryczne"
   ]
  },
  {
   "cell_type": "code",
   "execution_count": 420,
   "id": "53df6285",
   "metadata": {},
   "outputs": [
    {
     "data": {
      "text/html": [
       "<div>\n",
       "<style scoped>\n",
       "    .dataframe tbody tr th:only-of-type {\n",
       "        vertical-align: middle;\n",
       "    }\n",
       "\n",
       "    .dataframe tbody tr th {\n",
       "        vertical-align: top;\n",
       "    }\n",
       "\n",
       "    .dataframe thead th {\n",
       "        text-align: right;\n",
       "    }\n",
       "</style>\n",
       "<table border=\"1\" class=\"dataframe\">\n",
       "  <thead>\n",
       "    <tr style=\"text-align: right;\">\n",
       "      <th></th>\n",
       "      <th>Location</th>\n",
       "      <th>WindGustDir</th>\n",
       "      <th>WindDir9am</th>\n",
       "      <th>WindDir3pm</th>\n",
       "      <th>RainToday</th>\n",
       "      <th>RainTomorrow</th>\n",
       "    </tr>\n",
       "  </thead>\n",
       "  <tbody>\n",
       "    <tr>\n",
       "      <th>2133</th>\n",
       "      <td>Albury</td>\n",
       "      <td>WSW</td>\n",
       "      <td>ESE</td>\n",
       "      <td>W</td>\n",
       "      <td>No</td>\n",
       "      <td>No</td>\n",
       "    </tr>\n",
       "    <tr>\n",
       "      <th>2134</th>\n",
       "      <td>Albury</td>\n",
       "      <td>NE</td>\n",
       "      <td>ESE</td>\n",
       "      <td>ESE</td>\n",
       "      <td>No</td>\n",
       "      <td>No</td>\n",
       "    </tr>\n",
       "    <tr>\n",
       "      <th>2135</th>\n",
       "      <td>Albury</td>\n",
       "      <td>NNE</td>\n",
       "      <td>NE</td>\n",
       "      <td>N</td>\n",
       "      <td>No</td>\n",
       "      <td>No</td>\n",
       "    </tr>\n",
       "    <tr>\n",
       "      <th>2136</th>\n",
       "      <td>Albury</td>\n",
       "      <td>NNE</td>\n",
       "      <td>ESE</td>\n",
       "      <td>W</td>\n",
       "      <td>No</td>\n",
       "      <td>No</td>\n",
       "    </tr>\n",
       "    <tr>\n",
       "      <th>2137</th>\n",
       "      <td>Albury</td>\n",
       "      <td>E</td>\n",
       "      <td>SSE</td>\n",
       "      <td>SE</td>\n",
       "      <td>No</td>\n",
       "      <td>No</td>\n",
       "    </tr>\n",
       "  </tbody>\n",
       "</table>\n",
       "</div>"
      ],
      "text/plain": [
       "     Location WindGustDir WindDir9am WindDir3pm RainToday RainTomorrow\n",
       "2133   Albury         WSW        ESE          W        No           No\n",
       "2134   Albury          NE        ESE        ESE        No           No\n",
       "2135   Albury         NNE         NE          N        No           No\n",
       "2136   Albury         NNE        ESE          W        No           No\n",
       "2137   Albury           E        SSE         SE        No           No"
      ]
     },
     "execution_count": 420,
     "metadata": {},
     "output_type": "execute_result"
    }
   ],
   "source": [
    "s = (data.dtypes == \"object\")\n",
    "object_cols = list(s[s].index)\n",
    "\n",
    "data_obj = (data[object_cols])\n",
    "data_obj.head()"
   ]
  },
  {
   "cell_type": "code",
   "execution_count": 421,
   "id": "4af26347",
   "metadata": {},
   "outputs": [
    {
     "name": "stdout",
     "output_type": "stream",
     "text": [
      "Wartosci kategoryczne:\n",
      "['Location', 'WindGustDir', 'WindDir9am', 'WindDir3pm', 'RainToday', 'RainTomorrow']\n"
     ]
    }
   ],
   "source": [
    "print(\"Wartosci kategoryczne:\")\n",
    "print(object_cols)"
   ]
  },
  {
   "cell_type": "markdown",
   "id": "02c81be4",
   "metadata": {},
   "source": [
    "Sprawdzamy brakujące wartości"
   ]
  },
  {
   "cell_type": "code",
   "execution_count": 422,
   "id": "7bcc149e",
   "metadata": {},
   "outputs": [
    {
     "name": "stdout",
     "output_type": "stream",
     "text": [
      "Location 0\n",
      "WindGustDir 115\n",
      "WindDir9am 83\n",
      "WindDir3pm 43\n",
      "RainToday 75\n",
      "RainTomorrow 75\n"
     ]
    }
   ],
   "source": [
    "for i in object_cols:\n",
    "    print(i, data[i].isnull().sum())"
   ]
  },
  {
   "cell_type": "code",
   "execution_count": 423,
   "id": "b38e6899",
   "metadata": {},
   "outputs": [
    {
     "data": {
      "text/html": [
       "<div>\n",
       "<style scoped>\n",
       "    .dataframe tbody tr th:only-of-type {\n",
       "        vertical-align: middle;\n",
       "    }\n",
       "\n",
       "    .dataframe tbody tr th {\n",
       "        vertical-align: top;\n",
       "    }\n",
       "\n",
       "    .dataframe thead th {\n",
       "        text-align: right;\n",
       "    }\n",
       "</style>\n",
       "<table border=\"1\" class=\"dataframe\">\n",
       "  <thead>\n",
       "    <tr style=\"text-align: right;\">\n",
       "      <th></th>\n",
       "      <th>Total</th>\n",
       "      <th>Percent</th>\n",
       "    </tr>\n",
       "  </thead>\n",
       "  <tbody>\n",
       "    <tr>\n",
       "      <th>WindGustDir</th>\n",
       "      <td>115</td>\n",
       "      <td>0.075708</td>\n",
       "    </tr>\n",
       "    <tr>\n",
       "      <th>WindDir9am</th>\n",
       "      <td>83</td>\n",
       "      <td>0.054641</td>\n",
       "    </tr>\n",
       "    <tr>\n",
       "      <th>RainToday</th>\n",
       "      <td>75</td>\n",
       "      <td>0.049375</td>\n",
       "    </tr>\n",
       "    <tr>\n",
       "      <th>RainTomorrow</th>\n",
       "      <td>75</td>\n",
       "      <td>0.049375</td>\n",
       "    </tr>\n",
       "    <tr>\n",
       "      <th>WindDir3pm</th>\n",
       "      <td>43</td>\n",
       "      <td>0.028308</td>\n",
       "    </tr>\n",
       "    <tr>\n",
       "      <th>Location</th>\n",
       "      <td>0</td>\n",
       "      <td>0.000000</td>\n",
       "    </tr>\n",
       "  </tbody>\n",
       "</table>\n",
       "</div>"
      ],
      "text/plain": [
       "              Total   Percent\n",
       "WindGustDir     115  0.075708\n",
       "WindDir9am       83  0.054641\n",
       "RainToday        75  0.049375\n",
       "RainTomorrow     75  0.049375\n",
       "WindDir3pm       43  0.028308\n",
       "Location          0  0.000000"
      ]
     },
     "execution_count": 423,
     "metadata": {},
     "output_type": "execute_result"
    }
   ],
   "source": [
    "total_obj = data_obj.isnull().sum().sort_values(ascending=False)\n",
    "percent_obj = (data_obj.isnull().sum()/data_obj.isnull().count()).sort_values(ascending=False)\n",
    "missing_obj = pd.concat([total_obj, percent_obj], axis=1, keys=['Total', 'Percent'])\n",
    "missing_obj"
   ]
  },
  {
   "cell_type": "markdown",
   "id": "8865c7c0",
   "metadata": {},
   "source": [
    "Zauważamy, że pojawiają się wiersze z niewiadomym rezultatem(RainTomorrow). Z racji tego że nie jesteśmy w stanie przewidzieć czy następnego dnia był deszcz czy nie usuwam te wiersze."
   ]
  },
  {
   "cell_type": "code",
   "execution_count": 425,
   "id": "7f790de5",
   "metadata": {},
   "outputs": [
    {
     "data": {
      "text/html": [
       "<div>\n",
       "<style scoped>\n",
       "    .dataframe tbody tr th:only-of-type {\n",
       "        vertical-align: middle;\n",
       "    }\n",
       "\n",
       "    .dataframe tbody tr th {\n",
       "        vertical-align: top;\n",
       "    }\n",
       "\n",
       "    .dataframe thead th {\n",
       "        text-align: right;\n",
       "    }\n",
       "</style>\n",
       "<table border=\"1\" class=\"dataframe\">\n",
       "  <thead>\n",
       "    <tr style=\"text-align: right;\">\n",
       "      <th></th>\n",
       "      <th>Date</th>\n",
       "      <th>Location</th>\n",
       "      <th>MinTemp</th>\n",
       "      <th>MaxTemp</th>\n",
       "      <th>Rainfall</th>\n",
       "      <th>Evaporation</th>\n",
       "      <th>Sunshine</th>\n",
       "      <th>WindGustDir</th>\n",
       "      <th>WindGustSpeed</th>\n",
       "      <th>WindDir9am</th>\n",
       "      <th>...</th>\n",
       "      <th>Humidity9am</th>\n",
       "      <th>Humidity3pm</th>\n",
       "      <th>Pressure9am</th>\n",
       "      <th>Pressure3pm</th>\n",
       "      <th>Cloud9am</th>\n",
       "      <th>Cloud3pm</th>\n",
       "      <th>Temp9am</th>\n",
       "      <th>Temp3pm</th>\n",
       "      <th>RainToday</th>\n",
       "      <th>RainTomorrow</th>\n",
       "    </tr>\n",
       "  </thead>\n",
       "  <tbody>\n",
       "    <tr>\n",
       "      <th>2133</th>\n",
       "      <td>2015-01-01</td>\n",
       "      <td>Albury</td>\n",
       "      <td>11.4</td>\n",
       "      <td>33.5</td>\n",
       "      <td>0.0</td>\n",
       "      <td>7.6</td>\n",
       "      <td>10.2</td>\n",
       "      <td>WSW</td>\n",
       "      <td>30.0</td>\n",
       "      <td>ESE</td>\n",
       "      <td>...</td>\n",
       "      <td>45.0</td>\n",
       "      <td>14.0</td>\n",
       "      <td>1013.5</td>\n",
       "      <td>1011.0</td>\n",
       "      <td>6.0</td>\n",
       "      <td>6.0</td>\n",
       "      <td>21.0</td>\n",
       "      <td>32.7</td>\n",
       "      <td>No</td>\n",
       "      <td>No</td>\n",
       "    </tr>\n",
       "    <tr>\n",
       "      <th>2134</th>\n",
       "      <td>2015-01-02</td>\n",
       "      <td>Albury</td>\n",
       "      <td>15.5</td>\n",
       "      <td>39.6</td>\n",
       "      <td>0.0</td>\n",
       "      <td>7.6</td>\n",
       "      <td>10.2</td>\n",
       "      <td>NE</td>\n",
       "      <td>56.0</td>\n",
       "      <td>ESE</td>\n",
       "      <td>...</td>\n",
       "      <td>45.0</td>\n",
       "      <td>12.0</td>\n",
       "      <td>1016.0</td>\n",
       "      <td>1012.4</td>\n",
       "      <td>6.0</td>\n",
       "      <td>6.0</td>\n",
       "      <td>25.6</td>\n",
       "      <td>38.2</td>\n",
       "      <td>No</td>\n",
       "      <td>No</td>\n",
       "    </tr>\n",
       "    <tr>\n",
       "      <th>2135</th>\n",
       "      <td>2015-01-03</td>\n",
       "      <td>Albury</td>\n",
       "      <td>17.1</td>\n",
       "      <td>38.3</td>\n",
       "      <td>0.0</td>\n",
       "      <td>7.6</td>\n",
       "      <td>10.2</td>\n",
       "      <td>NNE</td>\n",
       "      <td>48.0</td>\n",
       "      <td>NE</td>\n",
       "      <td>...</td>\n",
       "      <td>35.0</td>\n",
       "      <td>19.0</td>\n",
       "      <td>1017.9</td>\n",
       "      <td>1012.3</td>\n",
       "      <td>6.0</td>\n",
       "      <td>6.0</td>\n",
       "      <td>29.2</td>\n",
       "      <td>37.0</td>\n",
       "      <td>No</td>\n",
       "      <td>No</td>\n",
       "    </tr>\n",
       "    <tr>\n",
       "      <th>2136</th>\n",
       "      <td>2015-01-04</td>\n",
       "      <td>Albury</td>\n",
       "      <td>26.0</td>\n",
       "      <td>33.1</td>\n",
       "      <td>0.0</td>\n",
       "      <td>7.6</td>\n",
       "      <td>10.2</td>\n",
       "      <td>NNE</td>\n",
       "      <td>41.0</td>\n",
       "      <td>ESE</td>\n",
       "      <td>...</td>\n",
       "      <td>46.0</td>\n",
       "      <td>37.0</td>\n",
       "      <td>1013.6</td>\n",
       "      <td>1012.1</td>\n",
       "      <td>8.0</td>\n",
       "      <td>5.0</td>\n",
       "      <td>27.4</td>\n",
       "      <td>30.9</td>\n",
       "      <td>No</td>\n",
       "      <td>No</td>\n",
       "    </tr>\n",
       "    <tr>\n",
       "      <th>2137</th>\n",
       "      <td>2015-01-05</td>\n",
       "      <td>Albury</td>\n",
       "      <td>19.0</td>\n",
       "      <td>35.2</td>\n",
       "      <td>0.0</td>\n",
       "      <td>7.6</td>\n",
       "      <td>10.2</td>\n",
       "      <td>E</td>\n",
       "      <td>33.0</td>\n",
       "      <td>SSE</td>\n",
       "      <td>...</td>\n",
       "      <td>60.0</td>\n",
       "      <td>34.0</td>\n",
       "      <td>1017.4</td>\n",
       "      <td>1014.7</td>\n",
       "      <td>8.0</td>\n",
       "      <td>6.0</td>\n",
       "      <td>25.6</td>\n",
       "      <td>32.5</td>\n",
       "      <td>No</td>\n",
       "      <td>No</td>\n",
       "    </tr>\n",
       "    <tr>\n",
       "      <th>...</th>\n",
       "      <td>...</td>\n",
       "      <td>...</td>\n",
       "      <td>...</td>\n",
       "      <td>...</td>\n",
       "      <td>...</td>\n",
       "      <td>...</td>\n",
       "      <td>...</td>\n",
       "      <td>...</td>\n",
       "      <td>...</td>\n",
       "      <td>...</td>\n",
       "      <td>...</td>\n",
       "      <td>...</td>\n",
       "      <td>...</td>\n",
       "      <td>...</td>\n",
       "      <td>...</td>\n",
       "      <td>...</td>\n",
       "      <td>...</td>\n",
       "      <td>...</td>\n",
       "      <td>...</td>\n",
       "      <td>...</td>\n",
       "      <td>...</td>\n",
       "    </tr>\n",
       "    <tr>\n",
       "      <th>144579</th>\n",
       "      <td>2015-01-27</td>\n",
       "      <td>Uluru</td>\n",
       "      <td>23.8</td>\n",
       "      <td>33.0</td>\n",
       "      <td>0.0</td>\n",
       "      <td>7.6</td>\n",
       "      <td>10.2</td>\n",
       "      <td>NE</td>\n",
       "      <td>43.0</td>\n",
       "      <td>E</td>\n",
       "      <td>...</td>\n",
       "      <td>19.0</td>\n",
       "      <td>21.0</td>\n",
       "      <td>1010.2</td>\n",
       "      <td>1007.1</td>\n",
       "      <td>3.0</td>\n",
       "      <td>8.0</td>\n",
       "      <td>28.4</td>\n",
       "      <td>31.4</td>\n",
       "      <td>No</td>\n",
       "      <td>No</td>\n",
       "    </tr>\n",
       "    <tr>\n",
       "      <th>144580</th>\n",
       "      <td>2015-01-28</td>\n",
       "      <td>Uluru</td>\n",
       "      <td>19.2</td>\n",
       "      <td>35.4</td>\n",
       "      <td>0.0</td>\n",
       "      <td>7.6</td>\n",
       "      <td>10.2</td>\n",
       "      <td>E</td>\n",
       "      <td>46.0</td>\n",
       "      <td>E</td>\n",
       "      <td>...</td>\n",
       "      <td>22.0</td>\n",
       "      <td>11.0</td>\n",
       "      <td>1009.7</td>\n",
       "      <td>1005.9</td>\n",
       "      <td>6.0</td>\n",
       "      <td>6.0</td>\n",
       "      <td>27.2</td>\n",
       "      <td>34.0</td>\n",
       "      <td>No</td>\n",
       "      <td>No</td>\n",
       "    </tr>\n",
       "    <tr>\n",
       "      <th>144581</th>\n",
       "      <td>2015-01-29</td>\n",
       "      <td>Uluru</td>\n",
       "      <td>15.5</td>\n",
       "      <td>35.5</td>\n",
       "      <td>0.0</td>\n",
       "      <td>7.6</td>\n",
       "      <td>10.2</td>\n",
       "      <td>E</td>\n",
       "      <td>44.0</td>\n",
       "      <td>ENE</td>\n",
       "      <td>...</td>\n",
       "      <td>21.0</td>\n",
       "      <td>9.0</td>\n",
       "      <td>1010.0</td>\n",
       "      <td>1006.6</td>\n",
       "      <td>6.0</td>\n",
       "      <td>6.0</td>\n",
       "      <td>26.8</td>\n",
       "      <td>34.1</td>\n",
       "      <td>No</td>\n",
       "      <td>No</td>\n",
       "    </tr>\n",
       "    <tr>\n",
       "      <th>144582</th>\n",
       "      <td>2015-01-30</td>\n",
       "      <td>Uluru</td>\n",
       "      <td>14.4</td>\n",
       "      <td>37.9</td>\n",
       "      <td>0.0</td>\n",
       "      <td>7.6</td>\n",
       "      <td>10.2</td>\n",
       "      <td>SSE</td>\n",
       "      <td>48.0</td>\n",
       "      <td>ENE</td>\n",
       "      <td>...</td>\n",
       "      <td>17.0</td>\n",
       "      <td>8.0</td>\n",
       "      <td>1009.7</td>\n",
       "      <td>1005.6</td>\n",
       "      <td>6.0</td>\n",
       "      <td>6.0</td>\n",
       "      <td>28.7</td>\n",
       "      <td>36.5</td>\n",
       "      <td>No</td>\n",
       "      <td>No</td>\n",
       "    </tr>\n",
       "    <tr>\n",
       "      <th>144583</th>\n",
       "      <td>2015-01-31</td>\n",
       "      <td>Uluru</td>\n",
       "      <td>20.2</td>\n",
       "      <td>40.5</td>\n",
       "      <td>0.0</td>\n",
       "      <td>7.6</td>\n",
       "      <td>10.2</td>\n",
       "      <td>SW</td>\n",
       "      <td>41.0</td>\n",
       "      <td>E</td>\n",
       "      <td>...</td>\n",
       "      <td>17.0</td>\n",
       "      <td>9.0</td>\n",
       "      <td>1008.3</td>\n",
       "      <td>1005.1</td>\n",
       "      <td>7.0</td>\n",
       "      <td>1.0</td>\n",
       "      <td>29.9</td>\n",
       "      <td>38.7</td>\n",
       "      <td>No</td>\n",
       "      <td>No</td>\n",
       "    </tr>\n",
       "  </tbody>\n",
       "</table>\n",
       "<p>1444 rows × 23 columns</p>\n",
       "</div>"
      ],
      "text/plain": [
       "             Date Location  MinTemp  MaxTemp  Rainfall  Evaporation  Sunshine  \\\n",
       "2133   2015-01-01   Albury     11.4     33.5       0.0          7.6      10.2   \n",
       "2134   2015-01-02   Albury     15.5     39.6       0.0          7.6      10.2   \n",
       "2135   2015-01-03   Albury     17.1     38.3       0.0          7.6      10.2   \n",
       "2136   2015-01-04   Albury     26.0     33.1       0.0          7.6      10.2   \n",
       "2137   2015-01-05   Albury     19.0     35.2       0.0          7.6      10.2   \n",
       "...           ...      ...      ...      ...       ...          ...       ...   \n",
       "144579 2015-01-27    Uluru     23.8     33.0       0.0          7.6      10.2   \n",
       "144580 2015-01-28    Uluru     19.2     35.4       0.0          7.6      10.2   \n",
       "144581 2015-01-29    Uluru     15.5     35.5       0.0          7.6      10.2   \n",
       "144582 2015-01-30    Uluru     14.4     37.9       0.0          7.6      10.2   \n",
       "144583 2015-01-31    Uluru     20.2     40.5       0.0          7.6      10.2   \n",
       "\n",
       "       WindGustDir  WindGustSpeed WindDir9am  ... Humidity9am  Humidity3pm  \\\n",
       "2133           WSW           30.0        ESE  ...        45.0         14.0   \n",
       "2134            NE           56.0        ESE  ...        45.0         12.0   \n",
       "2135           NNE           48.0         NE  ...        35.0         19.0   \n",
       "2136           NNE           41.0        ESE  ...        46.0         37.0   \n",
       "2137             E           33.0        SSE  ...        60.0         34.0   \n",
       "...            ...            ...        ...  ...         ...          ...   \n",
       "144579          NE           43.0          E  ...        19.0         21.0   \n",
       "144580           E           46.0          E  ...        22.0         11.0   \n",
       "144581           E           44.0        ENE  ...        21.0          9.0   \n",
       "144582         SSE           48.0        ENE  ...        17.0          8.0   \n",
       "144583          SW           41.0          E  ...        17.0          9.0   \n",
       "\n",
       "        Pressure9am  Pressure3pm  Cloud9am  Cloud3pm  Temp9am  Temp3pm  \\\n",
       "2133         1013.5       1011.0       6.0       6.0     21.0     32.7   \n",
       "2134         1016.0       1012.4       6.0       6.0     25.6     38.2   \n",
       "2135         1017.9       1012.3       6.0       6.0     29.2     37.0   \n",
       "2136         1013.6       1012.1       8.0       5.0     27.4     30.9   \n",
       "2137         1017.4       1014.7       8.0       6.0     25.6     32.5   \n",
       "...             ...          ...       ...       ...      ...      ...   \n",
       "144579       1010.2       1007.1       3.0       8.0     28.4     31.4   \n",
       "144580       1009.7       1005.9       6.0       6.0     27.2     34.0   \n",
       "144581       1010.0       1006.6       6.0       6.0     26.8     34.1   \n",
       "144582       1009.7       1005.6       6.0       6.0     28.7     36.5   \n",
       "144583       1008.3       1005.1       7.0       1.0     29.9     38.7   \n",
       "\n",
       "        RainToday  RainTomorrow  \n",
       "2133           No            No  \n",
       "2134           No            No  \n",
       "2135           No            No  \n",
       "2136           No            No  \n",
       "2137           No            No  \n",
       "...           ...           ...  \n",
       "144579         No            No  \n",
       "144580         No            No  \n",
       "144581         No            No  \n",
       "144582         No            No  \n",
       "144583         No            No  \n",
       "\n",
       "[1444 rows x 23 columns]"
      ]
     },
     "execution_count": 425,
     "metadata": {},
     "output_type": "execute_result"
    }
   ],
   "source": [
    "data.dropna(subset = [\"RainTomorrow\"], inplace=True)"
   ]
  },
  {
   "cell_type": "markdown",
   "id": "cfafc6df",
   "metadata": {},
   "source": [
    "Jeszcze raz sprawdzam brakujące wartości."
   ]
  },
  {
   "cell_type": "code",
   "execution_count": 428,
   "id": "a2b47a3b",
   "metadata": {},
   "outputs": [],
   "source": [
    "data_obj = (data[object_cols])\n",
    "total_obj = data_obj.isnull().sum().sort_values(ascending=False)\n",
    "percent_obj = (data_obj.isnull().sum()/data_obj.isnull().count()).sort_values(ascending=False)\n",
    "missing_obj = pd.concat([total_obj, percent_obj], axis=1, keys=['Total', 'Percent'])"
   ]
  },
  {
   "cell_type": "markdown",
   "id": "64725b46",
   "metadata": {},
   "source": [
    "Zauważamy że wraz z usunięciem wierszy z brakującym RainTomorrow zostały również zredukowane wystąpienia RainToday. Z racji na niski procent wystąpienia pozostałych wartości kategorycznych uzupełniam je wartościami najczęściej pojawiającymi się w zbiorze danych."
   ]
  },
  {
   "cell_type": "code",
   "execution_count": 429,
   "id": "0b2259d5",
   "metadata": {},
   "outputs": [],
   "source": [
    "for i in object_cols:\n",
    "    data[i].fillna(data[i].mode()[0], inplace=True)"
   ]
  },
  {
   "cell_type": "code",
   "execution_count": 430,
   "id": "b929a37a",
   "metadata": {},
   "outputs": [
    {
     "name": "stdout",
     "output_type": "stream",
     "text": [
      "Date 0\n",
      "Location 0\n",
      "MinTemp 0\n",
      "MaxTemp 0\n",
      "Rainfall 0\n",
      "Evaporation 0\n",
      "Sunshine 0\n",
      "WindGustDir 0\n",
      "WindGustSpeed 0\n",
      "WindDir9am 0\n",
      "WindDir3pm 0\n",
      "WindSpeed9am 0\n",
      "WindSpeed3pm 0\n",
      "Humidity9am 0\n",
      "Humidity3pm 0\n",
      "Pressure9am 0\n",
      "Pressure3pm 0\n",
      "Cloud9am 0\n",
      "Cloud3pm 0\n",
      "Temp9am 0\n",
      "Temp3pm 0\n",
      "RainToday 0\n",
      "RainTomorrow 0\n"
     ]
    }
   ],
   "source": [
    "for i in data.columns:\n",
    "    print(i, data[i].isnull().sum())"
   ]
  },
  {
   "cell_type": "markdown",
   "id": "45e6f35c",
   "metadata": {},
   "source": [
    "Jak widzimy pomyślnie usunęliśmy wszystkie brakujące wartości. Teraz przekształcamy wartości kategoryczne na numeryczne."
   ]
  },
  {
   "cell_type": "code",
   "execution_count": 431,
   "id": "6b8f1e90",
   "metadata": {},
   "outputs": [
    {
     "name": "stdout",
     "output_type": "stream",
     "text": [
      "\n",
      "************ Location ***********\n",
      " Albury              31\n",
      "Bendigo             31\n",
      "AliceSprings        31\n",
      "SalmonGums          31\n",
      "NorfolkIsland       31\n",
      "SydneyAirport       31\n",
      "Nhil                31\n",
      "Cobar               31\n",
      "Darwin              31\n",
      "Richmond            31\n",
      "MountGambier        31\n",
      "Sydney              31\n",
      "Woomera             31\n",
      "MountGinini         31\n",
      "Uluru               31\n",
      "Adelaide            31\n",
      "Newcastle           31\n",
      "PearceRAAF          31\n",
      "Launceston          31\n",
      "Nuriootpa           31\n",
      "Townsville          31\n",
      "Portland            31\n",
      "Sale                31\n",
      "Wollongong          31\n",
      "Watsonia            31\n",
      "Ballarat            31\n",
      "Katherine           31\n",
      "Albany              31\n",
      "Penrith             31\n",
      "WaggaWagga          31\n",
      "MelbourneAirport    31\n",
      "Dartmoor            31\n",
      "Tuggeranong         31\n",
      "PerthAirport        31\n",
      "Canberra            31\n",
      "Cairns              31\n",
      "NorahHead           31\n",
      "Perth               31\n",
      "BadgerysCreek       30\n",
      "Hobart              30\n",
      "Mildura             30\n",
      "Witchcliffe         30\n",
      "Walpole             30\n",
      "Brisbane            30\n",
      "GoldCoast           29\n",
      "Moree               26\n",
      "Williamtown         23\n",
      "Melbourne            5\n",
      "CoffsHarbour         3\n",
      "Name: Location, dtype: int64 \n",
      "\n",
      "\n",
      "\n",
      "************ WindGustDir ***********\n",
      " SSE    217\n",
      "SE     122\n",
      "S      121\n",
      "E      111\n",
      "WSW     96\n",
      "ESE     94\n",
      "SW      92\n",
      "SSW     89\n",
      "ENE     87\n",
      "W       74\n",
      "NE      73\n",
      "WNW     64\n",
      "N       61\n",
      "NW      60\n",
      "NNE     51\n",
      "NNW     32\n",
      "Name: WindGustDir, dtype: int64 \n",
      "\n",
      "\n",
      "\n",
      "************ WindDir9am ***********\n",
      " SE     188\n",
      "SSE    132\n",
      "E      119\n",
      "ESE    106\n",
      "SSW    106\n",
      "S      103\n",
      "ENE     86\n",
      "NE      85\n",
      "N       72\n",
      "SW      70\n",
      "NNW     68\n",
      "W       67\n",
      "NNE     66\n",
      "WSW     64\n",
      "NW      64\n",
      "WNW     48\n",
      "Name: WindDir9am, dtype: int64 \n",
      "\n",
      "\n",
      "\n",
      "************ WindDir3pm ***********\n",
      " SE     173\n",
      "SSE    127\n",
      "S      112\n",
      "ENE    110\n",
      "ESE     99\n",
      "SSW     94\n",
      "WSW     93\n",
      "NE      91\n",
      "SW      88\n",
      "E       84\n",
      "W       82\n",
      "WNW     69\n",
      "N       58\n",
      "NNE     57\n",
      "NNW     54\n",
      "NW      53\n",
      "Name: WindDir3pm, dtype: int64 \n",
      "\n",
      "\n",
      "\n",
      "************ RainToday ***********\n",
      " No     1096\n",
      "Yes     348\n",
      "Name: RainToday, dtype: int64 \n",
      "\n",
      "\n",
      "\n",
      "************ RainTomorrow ***********\n",
      " No     1091\n",
      "Yes     353\n",
      "Name: RainTomorrow, dtype: int64 \n",
      "\n",
      "\n"
     ]
    }
   ],
   "source": [
    "for col in object_cols:\n",
    "    print(\"\\n************\", col, \"***********\\n\", data[col].value_counts(), \"\\n\\n\")"
   ]
  },
  {
   "cell_type": "markdown",
   "id": "0c3842e3",
   "metadata": {},
   "source": [
    "Zauważamy że: \n",
    "- RainTomorrow i RainToday przyjmują wartości logiczne\n",
    "- WindGustDir, WindDir9am, WindDir3pm przyjmują jedną z wartości SE, S, W, SSE, SW, WSW, ESE, E, SSW, ENE, N, NE, WNW, NNW, NW, NNE\n",
    "- Location przyjmuje sporo wartości"
   ]
  },
  {
   "cell_type": "markdown",
   "id": "fd9d62ff",
   "metadata": {},
   "source": [
    "Do transformacji kolumny Location użyję LabelEncoder'a"
   ]
  },
  {
   "cell_type": "code",
   "execution_count": 432,
   "id": "d16c96e6",
   "metadata": {},
   "outputs": [
    {
     "name": "stdout",
     "output_type": "stream",
     "text": [
      "<class 'pandas.core.frame.DataFrame'>\n",
      "Int64Index: 1444 entries, 2133 to 144583\n",
      "Data columns (total 23 columns):\n",
      " #   Column         Non-Null Count  Dtype         \n",
      "---  ------         --------------  -----         \n",
      " 0   Date           1444 non-null   datetime64[ns]\n",
      " 1   Location       1444 non-null   int64         \n",
      " 2   MinTemp        1444 non-null   float64       \n",
      " 3   MaxTemp        1444 non-null   float64       \n",
      " 4   Rainfall       1444 non-null   float64       \n",
      " 5   Evaporation    1444 non-null   float64       \n",
      " 6   Sunshine       1444 non-null   float64       \n",
      " 7   WindGustDir    1444 non-null   int64         \n",
      " 8   WindGustSpeed  1444 non-null   float64       \n",
      " 9   WindDir9am     1444 non-null   int64         \n",
      " 10  WindDir3pm     1444 non-null   int64         \n",
      " 11  WindSpeed9am   1444 non-null   float64       \n",
      " 12  WindSpeed3pm   1444 non-null   float64       \n",
      " 13  Humidity9am    1444 non-null   float64       \n",
      " 14  Humidity3pm    1444 non-null   float64       \n",
      " 15  Pressure9am    1444 non-null   float64       \n",
      " 16  Pressure3pm    1444 non-null   float64       \n",
      " 17  Cloud9am       1444 non-null   float64       \n",
      " 18  Cloud3pm       1444 non-null   float64       \n",
      " 19  Temp9am        1444 non-null   float64       \n",
      " 20  Temp3pm        1444 non-null   float64       \n",
      " 21  RainToday      1444 non-null   int64         \n",
      " 22  RainTomorrow   1444 non-null   int64         \n",
      "dtypes: datetime64[ns](1), float64(16), int64(6)\n",
      "memory usage: 270.8 KB\n"
     ]
    }
   ],
   "source": [
    "label_encoder = LabelEncoder()\n",
    "for i in object_cols:\n",
    "    data[i] = label_encoder.fit_transform(data[i])\n",
    "data.info()"
   ]
  },
  {
   "cell_type": "code",
   "execution_count": 433,
   "id": "a25ccfda",
   "metadata": {},
   "outputs": [
    {
     "data": {
      "text/html": [
       "<div>\n",
       "<style scoped>\n",
       "    .dataframe tbody tr th:only-of-type {\n",
       "        vertical-align: middle;\n",
       "    }\n",
       "\n",
       "    .dataframe tbody tr th {\n",
       "        vertical-align: top;\n",
       "    }\n",
       "\n",
       "    .dataframe thead th {\n",
       "        text-align: right;\n",
       "    }\n",
       "</style>\n",
       "<table border=\"1\" class=\"dataframe\">\n",
       "  <thead>\n",
       "    <tr style=\"text-align: right;\">\n",
       "      <th></th>\n",
       "      <th>Date</th>\n",
       "      <th>Location</th>\n",
       "      <th>MinTemp</th>\n",
       "      <th>MaxTemp</th>\n",
       "      <th>Rainfall</th>\n",
       "      <th>Evaporation</th>\n",
       "      <th>Sunshine</th>\n",
       "      <th>WindGustDir</th>\n",
       "      <th>WindGustSpeed</th>\n",
       "      <th>WindDir9am</th>\n",
       "      <th>...</th>\n",
       "      <th>Humidity9am</th>\n",
       "      <th>Humidity3pm</th>\n",
       "      <th>Pressure9am</th>\n",
       "      <th>Pressure3pm</th>\n",
       "      <th>Cloud9am</th>\n",
       "      <th>Cloud3pm</th>\n",
       "      <th>Temp9am</th>\n",
       "      <th>Temp3pm</th>\n",
       "      <th>RainToday</th>\n",
       "      <th>RainTomorrow</th>\n",
       "    </tr>\n",
       "  </thead>\n",
       "  <tbody>\n",
       "    <tr>\n",
       "      <th>2133</th>\n",
       "      <td>2015-01-01</td>\n",
       "      <td>2</td>\n",
       "      <td>11.4</td>\n",
       "      <td>33.5</td>\n",
       "      <td>0.0</td>\n",
       "      <td>7.6</td>\n",
       "      <td>10.2</td>\n",
       "      <td>15</td>\n",
       "      <td>30.0</td>\n",
       "      <td>2</td>\n",
       "      <td>...</td>\n",
       "      <td>45.0</td>\n",
       "      <td>14.0</td>\n",
       "      <td>1013.5</td>\n",
       "      <td>1011.0</td>\n",
       "      <td>6.0</td>\n",
       "      <td>6.0</td>\n",
       "      <td>21.0</td>\n",
       "      <td>32.7</td>\n",
       "      <td>0</td>\n",
       "      <td>0</td>\n",
       "    </tr>\n",
       "    <tr>\n",
       "      <th>2134</th>\n",
       "      <td>2015-01-02</td>\n",
       "      <td>2</td>\n",
       "      <td>15.5</td>\n",
       "      <td>39.6</td>\n",
       "      <td>0.0</td>\n",
       "      <td>7.6</td>\n",
       "      <td>10.2</td>\n",
       "      <td>4</td>\n",
       "      <td>56.0</td>\n",
       "      <td>2</td>\n",
       "      <td>...</td>\n",
       "      <td>45.0</td>\n",
       "      <td>12.0</td>\n",
       "      <td>1016.0</td>\n",
       "      <td>1012.4</td>\n",
       "      <td>6.0</td>\n",
       "      <td>6.0</td>\n",
       "      <td>25.6</td>\n",
       "      <td>38.2</td>\n",
       "      <td>0</td>\n",
       "      <td>0</td>\n",
       "    </tr>\n",
       "    <tr>\n",
       "      <th>2135</th>\n",
       "      <td>2015-01-03</td>\n",
       "      <td>2</td>\n",
       "      <td>17.1</td>\n",
       "      <td>38.3</td>\n",
       "      <td>0.0</td>\n",
       "      <td>7.6</td>\n",
       "      <td>10.2</td>\n",
       "      <td>5</td>\n",
       "      <td>48.0</td>\n",
       "      <td>4</td>\n",
       "      <td>...</td>\n",
       "      <td>35.0</td>\n",
       "      <td>19.0</td>\n",
       "      <td>1017.9</td>\n",
       "      <td>1012.3</td>\n",
       "      <td>6.0</td>\n",
       "      <td>6.0</td>\n",
       "      <td>29.2</td>\n",
       "      <td>37.0</td>\n",
       "      <td>0</td>\n",
       "      <td>0</td>\n",
       "    </tr>\n",
       "    <tr>\n",
       "      <th>2136</th>\n",
       "      <td>2015-01-04</td>\n",
       "      <td>2</td>\n",
       "      <td>26.0</td>\n",
       "      <td>33.1</td>\n",
       "      <td>0.0</td>\n",
       "      <td>7.6</td>\n",
       "      <td>10.2</td>\n",
       "      <td>5</td>\n",
       "      <td>41.0</td>\n",
       "      <td>2</td>\n",
       "      <td>...</td>\n",
       "      <td>46.0</td>\n",
       "      <td>37.0</td>\n",
       "      <td>1013.6</td>\n",
       "      <td>1012.1</td>\n",
       "      <td>8.0</td>\n",
       "      <td>5.0</td>\n",
       "      <td>27.4</td>\n",
       "      <td>30.9</td>\n",
       "      <td>0</td>\n",
       "      <td>0</td>\n",
       "    </tr>\n",
       "    <tr>\n",
       "      <th>2137</th>\n",
       "      <td>2015-01-05</td>\n",
       "      <td>2</td>\n",
       "      <td>19.0</td>\n",
       "      <td>35.2</td>\n",
       "      <td>0.0</td>\n",
       "      <td>7.6</td>\n",
       "      <td>10.2</td>\n",
       "      <td>0</td>\n",
       "      <td>33.0</td>\n",
       "      <td>10</td>\n",
       "      <td>...</td>\n",
       "      <td>60.0</td>\n",
       "      <td>34.0</td>\n",
       "      <td>1017.4</td>\n",
       "      <td>1014.7</td>\n",
       "      <td>8.0</td>\n",
       "      <td>6.0</td>\n",
       "      <td>25.6</td>\n",
       "      <td>32.5</td>\n",
       "      <td>0</td>\n",
       "      <td>0</td>\n",
       "    </tr>\n",
       "  </tbody>\n",
       "</table>\n",
       "<p>5 rows × 23 columns</p>\n",
       "</div>"
      ],
      "text/plain": [
       "           Date  Location  MinTemp  MaxTemp  Rainfall  Evaporation  Sunshine  \\\n",
       "2133 2015-01-01         2     11.4     33.5       0.0          7.6      10.2   \n",
       "2134 2015-01-02         2     15.5     39.6       0.0          7.6      10.2   \n",
       "2135 2015-01-03         2     17.1     38.3       0.0          7.6      10.2   \n",
       "2136 2015-01-04         2     26.0     33.1       0.0          7.6      10.2   \n",
       "2137 2015-01-05         2     19.0     35.2       0.0          7.6      10.2   \n",
       "\n",
       "      WindGustDir  WindGustSpeed  WindDir9am  ...  Humidity9am  Humidity3pm  \\\n",
       "2133           15           30.0           2  ...         45.0         14.0   \n",
       "2134            4           56.0           2  ...         45.0         12.0   \n",
       "2135            5           48.0           4  ...         35.0         19.0   \n",
       "2136            5           41.0           2  ...         46.0         37.0   \n",
       "2137            0           33.0          10  ...         60.0         34.0   \n",
       "\n",
       "      Pressure9am  Pressure3pm  Cloud9am  Cloud3pm  Temp9am  Temp3pm  \\\n",
       "2133       1013.5       1011.0       6.0       6.0     21.0     32.7   \n",
       "2134       1016.0       1012.4       6.0       6.0     25.6     38.2   \n",
       "2135       1017.9       1012.3       6.0       6.0     29.2     37.0   \n",
       "2136       1013.6       1012.1       8.0       5.0     27.4     30.9   \n",
       "2137       1017.4       1014.7       8.0       6.0     25.6     32.5   \n",
       "\n",
       "      RainToday  RainTomorrow  \n",
       "2133          0             0  \n",
       "2134          0             0  \n",
       "2135          0             0  \n",
       "2136          0             0  \n",
       "2137          0             0  \n",
       "\n",
       "[5 rows x 23 columns]"
      ]
     },
     "execution_count": 433,
     "metadata": {},
     "output_type": "execute_result"
    }
   ],
   "source": [
    "data.head()"
   ]
  },
  {
   "cell_type": "code",
   "execution_count": 447,
   "id": "eeaeb84d",
   "metadata": {},
   "outputs": [],
   "source": [
    "features = data.drop(['RainTomorrow', 'Date'], axis=1)"
   ]
  },
  {
   "cell_type": "markdown",
   "id": "311ec842",
   "metadata": {},
   "source": [
    "Usuwamy wartości odstające."
   ]
  },
  {
   "cell_type": "code",
   "execution_count": 448,
   "id": "02c3ffa8",
   "metadata": {},
   "outputs": [],
   "source": [
    "col_names = list(features.columns)\n",
    "s_scaler = preprocessing.StandardScaler()\n",
    "features = s_scaler.fit_transform(features)\n",
    "features = pd.DataFrame(features, columns=col_names)"
   ]
  },
  {
   "cell_type": "code",
   "execution_count": 449,
   "id": "01032fb5",
   "metadata": {},
   "outputs": [
    {
     "data": {
      "image/png": "[encoded data removed]",
      "text/plain": [
       "<Figure size 1440x720 with 1 Axes>"
      ]
     },
     "metadata": {
      "needs_background": "light"
     },
     "output_type": "display_data"
    }
   ],
   "source": [
    "plt.figure(figsize=(20,10))\n",
    "sns.boxenplot(data = features)\n",
    "plt.xticks(rotation=90)\n",
    "plt.show()"
   ]
  },
  {
   "cell_type": "code",
   "execution_count": 450,
   "id": "d4244f44",
   "metadata": {},
   "outputs": [
    {
     "data": {
      "text/plain": [
       "1249"
      ]
     },
     "execution_count": 450,
     "metadata": {},
     "output_type": "execute_result"
    }
   ],
   "source": [
    "features['RainTomorrow'] = data['RainTomorrow'].values\n",
    "\n",
    "features = features[(features[\"MinTemp\"]<2)&(features[\"MinTemp\"]>-2)]\n",
    "features = features[(features[\"MaxTemp\"]<2.3)&(features[\"MaxTemp\"]>-2.7)]\n",
    "features = features[(features[\"Rainfall\"]<4.3)]\n",
    "features = features[(features[\"Evaporation\"]<3)]\n",
    "features = features[(features[\"WindGustSpeed\"]<2.7)&(features[\"WindGustSpeed\"]>-2)]\n",
    "features = features[(features[\"WindSpeed9am\"]<4)]\n",
    "features = features[(features[\"WindSpeed3pm\"]<3)]\n",
    "features = features[(features[\"Humidity9am\"]>-3)]\n",
    "features = features[(features[\"Pressure9am\"]< 2.5)&(features[\"Pressure9am\"]>-2.9)]\n",
    "features = features[(features[\"Pressure3pm\"]< 2.3)&(features[\"Pressure3pm\"]>-2.3)]\n",
    "features = features[(features[\"Temp9am\"]<2)&(features[\"Temp9am\"]>-2)]\n",
    "features = features[(features[\"Temp3pm\"]<2)&(features[\"Temp3pm\"]>-2)]\n",
    "\n",
    "len(features['Location'])"
   ]
  },
  {
   "cell_type": "code",
   "execution_count": 451,
   "id": "e4c00581",
   "metadata": {},
   "outputs": [
    {
     "data": {
      "image/png": "[encoded data removed]",
      "text/plain": [
       "<Figure size 1440x720 with 1 Axes>"
      ]
     },
     "metadata": {
      "needs_background": "light"
     },
     "output_type": "display_data"
    }
   ],
   "source": [
    "plt.figure(figsize=(20,10))\n",
    "sns.boxenplot(data = features)\n",
    "plt.xticks(rotation=90)\n",
    "plt.show()"
   ]
  },
  {
   "cell_type": "code",
   "execution_count": 458,
   "id": "0bc29c2e",
   "metadata": {},
   "outputs": [
    {
     "data": {
      "text/plain": [
       "<AxesSubplot:>"
      ]
     },
     "execution_count": 458,
     "metadata": {},
     "output_type": "execute_result"
    },
    {
     "data": {
      "image/png": "[encoded data removed]",
      "text/plain": [
       "<Figure size 1296x1296 with 2 Axes>"
      ]
     },
     "metadata": {},
     "output_type": "display_data"
    }
   ],
   "source": [
    "corrmat = features.corr()\n",
    "mask = np.triu(np.ones_like(corrmat, dtype=bool))\n",
    "cmap = sns.diverging_palette(230, 20, as_cmap=True)\n",
    "plt.subplots(figsize=(18,18))\n",
    "sns.heatmap(corrmat, mask=mask, cmap=cmap, annot=True, square=True)"
   ]
  },
  {
   "cell_type": "markdown",
   "id": "db09adc4",
   "metadata": {},
   "source": [
    "Między tymi parami występuje największa korelacja\n",
    "- MaxTemp i MinTemp\n",
    "- Pressure9am i Pressure3pm\n",
    "- Temp9am i Temp3pm\n",
    "- MaxTemp i Temp3pm\n",
    "- Rainfall i RainToday"
   ]
  },
  {
   "cell_type": "code",
   "execution_count": 29,
   "id": "077edcc7",
   "metadata": {},
   "outputs": [],
   "source": [
    "# sns.pairplot(X)\n",
    "# plt.show()"
   ]
  },
  {
   "cell_type": "markdown",
   "id": "ca7611ee",
   "metadata": {},
   "source": [
    "# Modele"
   ]
  },
  {
   "cell_type": "markdown",
   "id": "e5c58103",
   "metadata": {},
   "source": [
    "Tworzymy zbiór testowy i treningowy."
   ]
  },
  {
   "cell_type": "code",
   "execution_count": 565,
   "id": "3a743d99",
   "metadata": {},
   "outputs": [
    {
     "name": "stdout",
     "output_type": "stream",
     "text": [
      "(749, 21) (749,)\n",
      "(500, 21) (500,)\n"
     ]
    }
   ],
   "source": [
    "y = features['RainTomorrow']\n",
    "X = features.drop(['RainTomorrow'], axis=1)\n",
    "\n",
    "X_train, X_test, y_train, y_test = train_test_split(X, y, test_size=0.4, random_state=122)\n",
    "\n",
    "print(X_train.shape, y_train.shape)\n",
    "print(X_test.shape, y_test.shape)"
   ]
  },
  {
   "cell_type": "code",
   "execution_count": 505,
   "id": "8c1227e9",
   "metadata": {},
   "outputs": [
    {
     "data": {
      "text/plain": [
       "(1249, 21)"
      ]
     },
     "execution_count": 505,
     "metadata": {},
     "output_type": "execute_result"
    }
   ],
   "source": [
    "X.shape"
   ]
  },
  {
   "cell_type": "code",
   "execution_count": 506,
   "id": "fff158e6",
   "metadata": {},
   "outputs": [
    {
     "data": {
      "text/plain": [
       "909     1\n",
       "457     1\n",
       "1182    0\n",
       "123     0\n",
       "87      0\n",
       "Name: RainTomorrow, dtype: int64"
      ]
     },
     "execution_count": 506,
     "metadata": {},
     "output_type": "execute_result"
    }
   ],
   "source": [
    "y_train.head()"
   ]
  },
  {
   "cell_type": "code",
   "execution_count": 566,
   "id": "8eab8ca9",
   "metadata": {},
   "outputs": [
    {
     "data": {
      "image/png": "[encoded data removed]",
      "text/plain": [
       "<Figure size 432x288 with 1 Axes>"
      ]
     },
     "metadata": {},
     "output_type": "display_data"
    }
   ],
   "source": [
    "fig = plt.figure()\n",
    "ax = fig.add_axes([0,0,1,1])\n",
    "lengths = [len(y_train), len(y_test)]\n",
    "labels = [\"train\", \"test\"]\n",
    "ax.bar(labels,lengths)\n",
    "plt.show()"
   ]
  },
  {
   "cell_type": "code",
   "execution_count": 507,
   "id": "8431a104",
   "metadata": {},
   "outputs": [
    {
     "data": {
      "text/html": [
       "<div>\n",
       "<style scoped>\n",
       "    .dataframe tbody tr th:only-of-type {\n",
       "        vertical-align: middle;\n",
       "    }\n",
       "\n",
       "    .dataframe tbody tr th {\n",
       "        vertical-align: top;\n",
       "    }\n",
       "\n",
       "    .dataframe thead th {\n",
       "        text-align: right;\n",
       "    }\n",
       "</style>\n",
       "<table border=\"1\" class=\"dataframe\">\n",
       "  <thead>\n",
       "    <tr style=\"text-align: right;\">\n",
       "      <th></th>\n",
       "      <th>Location</th>\n",
       "      <th>MinTemp</th>\n",
       "      <th>MaxTemp</th>\n",
       "      <th>Rainfall</th>\n",
       "      <th>Evaporation</th>\n",
       "      <th>Sunshine</th>\n",
       "      <th>WindGustDir</th>\n",
       "      <th>WindGustSpeed</th>\n",
       "      <th>WindDir9am</th>\n",
       "      <th>WindDir3pm</th>\n",
       "      <th>...</th>\n",
       "      <th>WindSpeed3pm</th>\n",
       "      <th>Humidity9am</th>\n",
       "      <th>Humidity3pm</th>\n",
       "      <th>Pressure9am</th>\n",
       "      <th>Pressure3pm</th>\n",
       "      <th>Cloud9am</th>\n",
       "      <th>Cloud3pm</th>\n",
       "      <th>Temp9am</th>\n",
       "      <th>Temp3pm</th>\n",
       "      <th>RainToday</th>\n",
       "    </tr>\n",
       "  </thead>\n",
       "  <tbody>\n",
       "    <tr>\n",
       "      <th>909</th>\n",
       "      <td>1.034451</td>\n",
       "      <td>1.923403</td>\n",
       "      <td>0.909603</td>\n",
       "      <td>-0.324970</td>\n",
       "      <td>0.341168</td>\n",
       "      <td>-1.285644</td>\n",
       "      <td>0.704829</td>\n",
       "      <td>1.450727</td>\n",
       "      <td>-0.270069</td>\n",
       "      <td>0.293819</td>\n",
       "      <td>...</td>\n",
       "      <td>-0.381314</td>\n",
       "      <td>0.312081</td>\n",
       "      <td>1.894945</td>\n",
       "      <td>-1.426950</td>\n",
       "      <td>-1.392704</td>\n",
       "      <td>0.720874</td>\n",
       "      <td>1.222904</td>\n",
       "      <td>1.601048</td>\n",
       "      <td>-0.522703</td>\n",
       "      <td>-0.563488</td>\n",
       "    </tr>\n",
       "    <tr>\n",
       "      <th>457</th>\n",
       "      <td>1.104698</td>\n",
       "      <td>0.178744</td>\n",
       "      <td>0.689507</td>\n",
       "      <td>-0.324970</td>\n",
       "      <td>-0.087011</td>\n",
       "      <td>0.245195</td>\n",
       "      <td>-0.170675</td>\n",
       "      <td>0.613680</td>\n",
       "      <td>-0.270069</td>\n",
       "      <td>1.173146</td>\n",
       "      <td>...</td>\n",
       "      <td>-0.859591</td>\n",
       "      <td>-0.733983</td>\n",
       "      <td>-0.690971</td>\n",
       "      <td>0.771735</td>\n",
       "      <td>0.449897</td>\n",
       "      <td>0.285879</td>\n",
       "      <td>0.331724</td>\n",
       "      <td>0.878709</td>\n",
       "      <td>0.971010</td>\n",
       "      <td>-0.563488</td>\n",
       "    </tr>\n",
       "    <tr>\n",
       "      <th>1182</th>\n",
       "      <td>0.472469</td>\n",
       "      <td>0.178744</td>\n",
       "      <td>0.266245</td>\n",
       "      <td>-0.324970</td>\n",
       "      <td>0.501735</td>\n",
       "      <td>1.182442</td>\n",
       "      <td>0.923704</td>\n",
       "      <td>-0.409377</td>\n",
       "      <td>-1.176473</td>\n",
       "      <td>0.733483</td>\n",
       "      <td>...</td>\n",
       "      <td>-0.381314</td>\n",
       "      <td>-0.838590</td>\n",
       "      <td>-0.512632</td>\n",
       "      <td>1.250656</td>\n",
       "      <td>0.967482</td>\n",
       "      <td>-2.324088</td>\n",
       "      <td>-2.341817</td>\n",
       "      <td>0.507779</td>\n",
       "      <td>0.444816</td>\n",
       "      <td>-0.563488</td>\n",
       "    </tr>\n",
       "    <tr>\n",
       "      <th>123</th>\n",
       "      <td>-0.019265</td>\n",
       "      <td>0.732930</td>\n",
       "      <td>0.587924</td>\n",
       "      <td>-0.324970</td>\n",
       "      <td>-0.087011</td>\n",
       "      <td>0.245195</td>\n",
       "      <td>0.485953</td>\n",
       "      <td>-0.037357</td>\n",
       "      <td>0.409733</td>\n",
       "      <td>-0.805339</td>\n",
       "      <td>...</td>\n",
       "      <td>-0.142175</td>\n",
       "      <td>0.050565</td>\n",
       "      <td>0.423648</td>\n",
       "      <td>-0.055493</td>\n",
       "      <td>-0.026281</td>\n",
       "      <td>-2.324088</td>\n",
       "      <td>-1.896227</td>\n",
       "      <td>0.820141</td>\n",
       "      <td>0.631530</td>\n",
       "      <td>-0.563488</td>\n",
       "    </tr>\n",
       "    <tr>\n",
       "      <th>87</th>\n",
       "      <td>-1.002732</td>\n",
       "      <td>-0.293340</td>\n",
       "      <td>0.503271</td>\n",
       "      <td>-0.324970</td>\n",
       "      <td>0.983436</td>\n",
       "      <td>0.245195</td>\n",
       "      <td>0.923704</td>\n",
       "      <td>-0.037357</td>\n",
       "      <td>0.183132</td>\n",
       "      <td>0.953314</td>\n",
       "      <td>...</td>\n",
       "      <td>0.216533</td>\n",
       "      <td>-1.518531</td>\n",
       "      <td>-1.627251</td>\n",
       "      <td>-0.686799</td>\n",
       "      <td>-0.916526</td>\n",
       "      <td>-1.889094</td>\n",
       "      <td>-1.896227</td>\n",
       "      <td>-0.292651</td>\n",
       "      <td>0.614556</td>\n",
       "      <td>-0.563488</td>\n",
       "    </tr>\n",
       "    <tr>\n",
       "      <th>...</th>\n",
       "      <td>...</td>\n",
       "      <td>...</td>\n",
       "      <td>...</td>\n",
       "      <td>...</td>\n",
       "      <td>...</td>\n",
       "      <td>...</td>\n",
       "      <td>...</td>\n",
       "      <td>...</td>\n",
       "      <td>...</td>\n",
       "      <td>...</td>\n",
       "      <td>...</td>\n",
       "      <td>...</td>\n",
       "      <td>...</td>\n",
       "      <td>...</td>\n",
       "      <td>...</td>\n",
       "      <td>...</td>\n",
       "      <td>...</td>\n",
       "      <td>...</td>\n",
       "      <td>...</td>\n",
       "      <td>...</td>\n",
       "      <td>...</td>\n",
       "    </tr>\n",
       "    <tr>\n",
       "      <th>1116</th>\n",
       "      <td>0.331974</td>\n",
       "      <td>-0.909102</td>\n",
       "      <td>1.400587</td>\n",
       "      <td>-0.324970</td>\n",
       "      <td>-0.087011</td>\n",
       "      <td>1.182442</td>\n",
       "      <td>1.580332</td>\n",
       "      <td>0.241659</td>\n",
       "      <td>-1.403074</td>\n",
       "      <td>1.612809</td>\n",
       "      <td>...</td>\n",
       "      <td>1.292657</td>\n",
       "      <td>-2.303079</td>\n",
       "      <td>-1.493497</td>\n",
       "      <td>-0.817414</td>\n",
       "      <td>-0.875119</td>\n",
       "      <td>-2.324088</td>\n",
       "      <td>-2.341817</td>\n",
       "      <td>1.210595</td>\n",
       "      <td>1.412335</td>\n",
       "      <td>-0.563488</td>\n",
       "    </tr>\n",
       "    <tr>\n",
       "      <th>199</th>\n",
       "      <td>0.191478</td>\n",
       "      <td>0.753455</td>\n",
       "      <td>-0.326322</td>\n",
       "      <td>-0.268292</td>\n",
       "      <td>-0.622234</td>\n",
       "      <td>0.338919</td>\n",
       "      <td>1.361456</td>\n",
       "      <td>-0.223367</td>\n",
       "      <td>-0.043468</td>\n",
       "      <td>1.173146</td>\n",
       "      <td>...</td>\n",
       "      <td>-0.022606</td>\n",
       "      <td>1.148932</td>\n",
       "      <td>1.137004</td>\n",
       "      <td>-0.294954</td>\n",
       "      <td>-0.150501</td>\n",
       "      <td>-0.584110</td>\n",
       "      <td>-1.005047</td>\n",
       "      <td>0.449211</td>\n",
       "      <td>-0.200197</td>\n",
       "      <td>-0.563488</td>\n",
       "    </tr>\n",
       "    <tr>\n",
       "      <th>1006</th>\n",
       "      <td>0.261726</td>\n",
       "      <td>-1.360660</td>\n",
       "      <td>-1.155916</td>\n",
       "      <td>-0.324970</td>\n",
       "      <td>0.207362</td>\n",
       "      <td>0.245195</td>\n",
       "      <td>0.923704</td>\n",
       "      <td>0.241659</td>\n",
       "      <td>1.769338</td>\n",
       "      <td>0.953314</td>\n",
       "      <td>...</td>\n",
       "      <td>0.933949</td>\n",
       "      <td>-1.047802</td>\n",
       "      <td>-0.913895</td>\n",
       "      <td>0.075122</td>\n",
       "      <td>0.656931</td>\n",
       "      <td>-0.584110</td>\n",
       "      <td>0.331724</td>\n",
       "      <td>-1.210216</td>\n",
       "      <td>-1.116794</td>\n",
       "      <td>-0.563488</td>\n",
       "    </tr>\n",
       "    <tr>\n",
       "      <th>951</th>\n",
       "      <td>-0.159760</td>\n",
       "      <td>-1.381186</td>\n",
       "      <td>0.130801</td>\n",
       "      <td>-0.324970</td>\n",
       "      <td>-0.461667</td>\n",
       "      <td>0.026503</td>\n",
       "      <td>0.485953</td>\n",
       "      <td>-0.223367</td>\n",
       "      <td>0.183132</td>\n",
       "      <td>-1.245002</td>\n",
       "      <td>...</td>\n",
       "      <td>-0.620452</td>\n",
       "      <td>0.521293</td>\n",
       "      <td>-0.735556</td>\n",
       "      <td>0.837042</td>\n",
       "      <td>0.470601</td>\n",
       "      <td>1.155869</td>\n",
       "      <td>-0.559456</td>\n",
       "      <td>-1.014989</td>\n",
       "      <td>0.088361</td>\n",
       "      <td>-0.563488</td>\n",
       "    </tr>\n",
       "    <tr>\n",
       "      <th>423</th>\n",
       "      <td>-1.072980</td>\n",
       "      <td>-0.252289</td>\n",
       "      <td>0.655646</td>\n",
       "      <td>-0.324970</td>\n",
       "      <td>-0.087011</td>\n",
       "      <td>0.245195</td>\n",
       "      <td>-1.265054</td>\n",
       "      <td>1.171711</td>\n",
       "      <td>1.316137</td>\n",
       "      <td>1.612809</td>\n",
       "      <td>...</td>\n",
       "      <td>-0.381314</td>\n",
       "      <td>0.050565</td>\n",
       "      <td>-1.404327</td>\n",
       "      <td>0.314582</td>\n",
       "      <td>0.263567</td>\n",
       "      <td>0.285879</td>\n",
       "      <td>0.331724</td>\n",
       "      <td>-0.253605</td>\n",
       "      <td>0.818244</td>\n",
       "      <td>-0.563488</td>\n",
       "    </tr>\n",
       "  </tbody>\n",
       "</table>\n",
       "<p>624 rows × 21 columns</p>\n",
       "</div>"
      ],
      "text/plain": [
       "      Location   MinTemp   MaxTemp  Rainfall  Evaporation  Sunshine  \\\n",
       "909   1.034451  1.923403  0.909603 -0.324970     0.341168 -1.285644   \n",
       "457   1.104698  0.178744  0.689507 -0.324970    -0.087011  0.245195   \n",
       "1182  0.472469  0.178744  0.266245 -0.324970     0.501735  1.182442   \n",
       "123  -0.019265  0.732930  0.587924 -0.324970    -0.087011  0.245195   \n",
       "87   -1.002732 -0.293340  0.503271 -0.324970     0.983436  0.245195   \n",
       "...        ...       ...       ...       ...          ...       ...   \n",
       "1116  0.331974 -0.909102  1.400587 -0.324970    -0.087011  1.182442   \n",
       "199   0.191478  0.753455 -0.326322 -0.268292    -0.622234  0.338919   \n",
       "1006  0.261726 -1.360660 -1.155916 -0.324970     0.207362  0.245195   \n",
       "951  -0.159760 -1.381186  0.130801 -0.324970    -0.461667  0.026503   \n",
       "423  -1.072980 -0.252289  0.655646 -0.324970    -0.087011  0.245195   \n",
       "\n",
       "      WindGustDir  WindGustSpeed  WindDir9am  WindDir3pm  ...  WindSpeed3pm  \\\n",
       "909      0.704829       1.450727   -0.270069    0.293819  ...     -0.381314   \n",
       "457     -0.170675       0.613680   -0.270069    1.173146  ...     -0.859591   \n",
       "1182     0.923704      -0.409377   -1.176473    0.733483  ...     -0.381314   \n",
       "123      0.485953      -0.037357    0.409733   -0.805339  ...     -0.142175   \n",
       "87       0.923704      -0.037357    0.183132    0.953314  ...      0.216533   \n",
       "...           ...            ...         ...         ...  ...           ...   \n",
       "1116     1.580332       0.241659   -1.403074    1.612809  ...      1.292657   \n",
       "199      1.361456      -0.223367   -0.043468    1.173146  ...     -0.022606   \n",
       "1006     0.923704       0.241659    1.769338    0.953314  ...      0.933949   \n",
       "951      0.485953      -0.223367    0.183132   -1.245002  ...     -0.620452   \n",
       "423     -1.265054       1.171711    1.316137    1.612809  ...     -0.381314   \n",
       "\n",
       "      Humidity9am  Humidity3pm  Pressure9am  Pressure3pm  Cloud9am  Cloud3pm  \\\n",
       "909      0.312081     1.894945    -1.426950    -1.392704  0.720874  1.222904   \n",
       "457     -0.733983    -0.690971     0.771735     0.449897  0.285879  0.331724   \n",
       "1182    -0.838590    -0.512632     1.250656     0.967482 -2.324088 -2.341817   \n",
       "123      0.050565     0.423648    -0.055493    -0.026281 -2.324088 -1.896227   \n",
       "87      -1.518531    -1.627251    -0.686799    -0.916526 -1.889094 -1.896227   \n",
       "...           ...          ...          ...          ...       ...       ...   \n",
       "1116    -2.303079    -1.493497    -0.817414    -0.875119 -2.324088 -2.341817   \n",
       "199      1.148932     1.137004    -0.294954    -0.150501 -0.584110 -1.005047   \n",
       "1006    -1.047802    -0.913895     0.075122     0.656931 -0.584110  0.331724   \n",
       "951      0.521293    -0.735556     0.837042     0.470601  1.155869 -0.559456   \n",
       "423      0.050565    -1.404327     0.314582     0.263567  0.285879  0.331724   \n",
       "\n",
       "       Temp9am   Temp3pm  RainToday  \n",
       "909   1.601048 -0.522703  -0.563488  \n",
       "457   0.878709  0.971010  -0.563488  \n",
       "1182  0.507779  0.444816  -0.563488  \n",
       "123   0.820141  0.631530  -0.563488  \n",
       "87   -0.292651  0.614556  -0.563488  \n",
       "...        ...       ...        ...  \n",
       "1116  1.210595  1.412335  -0.563488  \n",
       "199   0.449211 -0.200197  -0.563488  \n",
       "1006 -1.210216 -1.116794  -0.563488  \n",
       "951  -1.014989  0.088361  -0.563488  \n",
       "423  -0.253605  0.818244  -0.563488  \n",
       "\n",
       "[624 rows x 21 columns]"
      ]
     },
     "execution_count": 507,
     "metadata": {},
     "output_type": "execute_result"
    }
   ],
   "source": [
    "kfold = StratifiedKFold(n_splits=5)\n",
    "X_train"
   ]
  },
  {
   "cell_type": "markdown",
   "id": "4167eee4",
   "metadata": {},
   "source": [
    "### RandomForest"
   ]
  },
  {
   "cell_type": "code",
   "execution_count": 620,
   "id": "9fa360ee",
   "metadata": {},
   "outputs": [
    {
     "data": {
      "text/plain": [
       "{'classifier__max_depth': 8,\n",
       " 'classifier__max_leaf_nodes': 32,\n",
       " 'classifier__n_estimators': 50}"
      ]
     },
     "execution_count": 620,
     "metadata": {},
     "output_type": "execute_result"
    }
   ],
   "source": [
    "pipeline_1 = Pipeline([('classifier', RandomForestClassifier(n_jobs=-1))])\n",
    "\n",
    "param_grid_1 = {\n",
    "            \n",
    "            'classifier__max_depth' : [1,2,8,16],\n",
    "            'classifier__n_estimators' : [1, 3, 5, 10, 50],\n",
    "            'classifier__max_leaf_nodes' : [2, 4, 8, 16, 32, 64],\n",
    "}\n",
    "\n",
    "grid_1 = GridSearchCV(pipeline_1, param_grid_1, cv=kfold, return_train_score=True)\n",
    "\n",
    "grid_1.fit(X_train, y_train)\n",
    "grid_1.best_params_\n"
   ]
  },
  {
   "cell_type": "code",
   "execution_count": 621,
   "id": "20480b8d",
   "metadata": {},
   "outputs": [
    {
     "data": {
      "text/plain": [
       "0.8472222222222222"
      ]
     },
     "execution_count": 621,
     "metadata": {},
     "output_type": "execute_result"
    }
   ],
   "source": [
    "metrics.precision_score(y_test, grid_1.predict(X_test))"
   ]
  },
  {
   "cell_type": "markdown",
   "id": "a89c9ac9",
   "metadata": {},
   "source": [
    "### Logistic Regression"
   ]
  },
  {
   "cell_type": "code",
   "execution_count": 516,
   "id": "6a6f770e",
   "metadata": {},
   "outputs": [
    {
     "data": {
      "text/plain": [
       "{'classifier__C': 10}"
      ]
     },
     "execution_count": 516,
     "metadata": {},
     "output_type": "execute_result"
    }
   ],
   "source": [
    "pipeline_2 = Pipeline([('classifier', LogisticRegression(n_jobs=-1))])\n",
    "\n",
    "param_grid_2 = {\n",
    "            'classifier__C': [0.001, 0.01, 0.1, 1, 10, 100]\n",
    "}\n",
    "\n",
    "grid_2 = GridSearchCV(pipeline_2, param_grid_2, cv=kfold, return_train_score=True) \n",
    "grid_2.fit(X_train, y_train)\n",
    "grid_2.best_params_"
   ]
  },
  {
   "cell_type": "code",
   "execution_count": 517,
   "id": "31941596",
   "metadata": {},
   "outputs": [
    {
     "data": {
      "text/plain": [
       "0.6829268292682927"
      ]
     },
     "execution_count": 517,
     "metadata": {},
     "output_type": "execute_result"
    }
   ],
   "source": [
    "metrics.precision_score(y_test, grid_2.predict(X_test))"
   ]
  },
  {
   "cell_type": "markdown",
   "id": "7d337a8f",
   "metadata": {},
   "source": [
    "### LinearSVC"
   ]
  },
  {
   "cell_type": "code",
   "execution_count": 616,
   "id": "54c3efb9",
   "metadata": {},
   "outputs": [
    {
     "name": "stderr",
     "output_type": "stream",
     "text": [
      "/home/mateusz/.local/lib/python3.8/site-packages/sklearn/svm/_base.py:985: ConvergenceWarning: Liblinear failed to converge, increase the number of iterations.\n",
      "  warnings.warn(\"Liblinear failed to converge, increase \"\n",
      "/home/mateusz/.local/lib/python3.8/site-packages/sklearn/svm/_base.py:985: ConvergenceWarning: Liblinear failed to converge, increase the number of iterations.\n",
      "  warnings.warn(\"Liblinear failed to converge, increase \"\n",
      "/home/mateusz/.local/lib/python3.8/site-packages/sklearn/svm/_base.py:985: ConvergenceWarning: Liblinear failed to converge, increase the number of iterations.\n",
      "  warnings.warn(\"Liblinear failed to converge, increase \"\n",
      "/home/mateusz/.local/lib/python3.8/site-packages/sklearn/svm/_base.py:985: ConvergenceWarning: Liblinear failed to converge, increase the number of iterations.\n",
      "  warnings.warn(\"Liblinear failed to converge, increase \"\n",
      "/home/mateusz/.local/lib/python3.8/site-packages/sklearn/svm/_base.py:985: ConvergenceWarning: Liblinear failed to converge, increase the number of iterations.\n",
      "  warnings.warn(\"Liblinear failed to converge, increase \"\n",
      "/home/mateusz/.local/lib/python3.8/site-packages/sklearn/svm/_base.py:985: ConvergenceWarning: Liblinear failed to converge, increase the number of iterations.\n",
      "  warnings.warn(\"Liblinear failed to converge, increase \"\n",
      "/home/mateusz/.local/lib/python3.8/site-packages/sklearn/svm/_base.py:985: ConvergenceWarning: Liblinear failed to converge, increase the number of iterations.\n",
      "  warnings.warn(\"Liblinear failed to converge, increase \"\n",
      "/home/mateusz/.local/lib/python3.8/site-packages/sklearn/svm/_base.py:985: ConvergenceWarning: Liblinear failed to converge, increase the number of iterations.\n",
      "  warnings.warn(\"Liblinear failed to converge, increase \"\n",
      "/home/mateusz/.local/lib/python3.8/site-packages/sklearn/svm/_base.py:985: ConvergenceWarning: Liblinear failed to converge, increase the number of iterations.\n",
      "  warnings.warn(\"Liblinear failed to converge, increase \"\n",
      "/home/mateusz/.local/lib/python3.8/site-packages/sklearn/svm/_base.py:985: ConvergenceWarning: Liblinear failed to converge, increase the number of iterations.\n",
      "  warnings.warn(\"Liblinear failed to converge, increase \"\n",
      "/home/mateusz/.local/lib/python3.8/site-packages/sklearn/svm/_base.py:985: ConvergenceWarning: Liblinear failed to converge, increase the number of iterations.\n",
      "  warnings.warn(\"Liblinear failed to converge, increase \"\n",
      "/home/mateusz/.local/lib/python3.8/site-packages/sklearn/svm/_base.py:985: ConvergenceWarning: Liblinear failed to converge, increase the number of iterations.\n",
      "  warnings.warn(\"Liblinear failed to converge, increase \"\n",
      "/home/mateusz/.local/lib/python3.8/site-packages/sklearn/svm/_base.py:985: ConvergenceWarning: Liblinear failed to converge, increase the number of iterations.\n",
      "  warnings.warn(\"Liblinear failed to converge, increase \"\n",
      "/home/mateusz/.local/lib/python3.8/site-packages/sklearn/svm/_base.py:985: ConvergenceWarning: Liblinear failed to converge, increase the number of iterations.\n",
      "  warnings.warn(\"Liblinear failed to converge, increase \"\n",
      "/home/mateusz/.local/lib/python3.8/site-packages/sklearn/svm/_base.py:985: ConvergenceWarning: Liblinear failed to converge, increase the number of iterations.\n",
      "  warnings.warn(\"Liblinear failed to converge, increase \"\n",
      "/home/mateusz/.local/lib/python3.8/site-packages/sklearn/svm/_base.py:985: ConvergenceWarning: Liblinear failed to converge, increase the number of iterations.\n",
      "  warnings.warn(\"Liblinear failed to converge, increase \"\n",
      "/home/mateusz/.local/lib/python3.8/site-packages/sklearn/svm/_base.py:985: ConvergenceWarning: Liblinear failed to converge, increase the number of iterations.\n",
      "  warnings.warn(\"Liblinear failed to converge, increase \"\n",
      "/home/mateusz/.local/lib/python3.8/site-packages/sklearn/svm/_base.py:985: ConvergenceWarning: Liblinear failed to converge, increase the number of iterations.\n",
      "  warnings.warn(\"Liblinear failed to converge, increase \"\n",
      "/home/mateusz/.local/lib/python3.8/site-packages/sklearn/svm/_base.py:985: ConvergenceWarning: Liblinear failed to converge, increase the number of iterations.\n",
      "  warnings.warn(\"Liblinear failed to converge, increase \"\n",
      "/home/mateusz/.local/lib/python3.8/site-packages/sklearn/svm/_base.py:985: ConvergenceWarning: Liblinear failed to converge, increase the number of iterations.\n",
      "  warnings.warn(\"Liblinear failed to converge, increase \"\n",
      "/home/mateusz/.local/lib/python3.8/site-packages/sklearn/svm/_base.py:985: ConvergenceWarning: Liblinear failed to converge, increase the number of iterations.\n",
      "  warnings.warn(\"Liblinear failed to converge, increase \"\n",
      "/home/mateusz/.local/lib/python3.8/site-packages/sklearn/svm/_base.py:985: ConvergenceWarning: Liblinear failed to converge, increase the number of iterations.\n",
      "  warnings.warn(\"Liblinear failed to converge, increase \"\n",
      "/home/mateusz/.local/lib/python3.8/site-packages/sklearn/svm/_base.py:985: ConvergenceWarning: Liblinear failed to converge, increase the number of iterations.\n",
      "  warnings.warn(\"Liblinear failed to converge, increase \"\n",
      "/home/mateusz/.local/lib/python3.8/site-packages/sklearn/svm/_base.py:985: ConvergenceWarning: Liblinear failed to converge, increase the number of iterations.\n",
      "  warnings.warn(\"Liblinear failed to converge, increase \"\n"
     ]
    },
    {
     "data": {
      "text/plain": [
       "{'classifier__C': 0.01}"
      ]
     },
     "execution_count": 616,
     "metadata": {},
     "output_type": "execute_result"
    }
   ],
   "source": [
    "pipeline_3 = Pipeline([('classifier', LinearSVC(C=1))])\n",
    "\n",
    "param_grid_3 = {\n",
    "            'classifier__C': [0.001, 0.01, 0.1, 1, 5, 10, 20, 100]\n",
    "}\n",
    "\n",
    "grid_3 = GridSearchCV(pipeline_3, param_grid_3, cv=kfold, return_train_score=True)\n",
    "\n",
    "grid_3.fit(X_train, y_train)\n",
    "grid_3.best_params_"
   ]
  },
  {
   "cell_type": "code",
   "execution_count": 617,
   "id": "3616af66",
   "metadata": {},
   "outputs": [
    {
     "data": {
      "text/plain": [
       "0.7848101265822784"
      ]
     },
     "execution_count": 617,
     "metadata": {},
     "output_type": "execute_result"
    }
   ],
   "source": [
    "metrics.precision_score(y_test, grid_3.predict(X_test))"
   ]
  },
  {
   "cell_type": "markdown",
   "id": "e06bcc78",
   "metadata": {},
   "source": [
    "### KNeighborsClassifier"
   ]
  },
  {
   "cell_type": "code",
   "execution_count": 614,
   "id": "782bba8c",
   "metadata": {},
   "outputs": [
    {
     "data": {
      "text/plain": [
       "{'classifier__p': 7}"
      ]
     },
     "execution_count": 614,
     "metadata": {},
     "output_type": "execute_result"
    }
   ],
   "source": [
    "pipeline_4 = Pipeline([('classifier', KNeighborsClassifier(n_jobs=-1))])\n",
    "\n",
    "param_grid_4 = {\n",
    "            'classifier__p': [1, 5, 7, 10, 15, 25, 100, 1000, 10000]\n",
    "}\n",
    "\n",
    "grid_4 = GridSearchCV(pipeline_4, param_grid_4, cv=kfold, return_train_score=True)\n",
    "\n",
    "grid_4.fit(X_train, y_train)\n",
    "grid_4.best_params_"
   ]
  },
  {
   "cell_type": "code",
   "execution_count": 615,
   "id": "b109e670",
   "metadata": {},
   "outputs": [
    {
     "data": {
      "text/plain": [
       "0.6233766233766234"
      ]
     },
     "execution_count": 615,
     "metadata": {},
     "output_type": "execute_result"
    }
   ],
   "source": [
    "metrics.precision_score(y_test, grid_4.predict(X_test))"
   ]
  },
  {
   "cell_type": "markdown",
   "id": "c5055e98",
   "metadata": {},
   "source": [
    "### DecisionTreeClassifier"
   ]
  },
  {
   "cell_type": "code",
   "execution_count": 608,
   "id": "2e63396e",
   "metadata": {},
   "outputs": [
    {
     "data": {
      "text/plain": [
       "{'classifier__max_depth': 1, 'classifier__max_leaf_nodes': None}"
      ]
     },
     "execution_count": 608,
     "metadata": {},
     "output_type": "execute_result"
    }
   ],
   "source": [
    "pipeline_5 = Pipeline([('classifier', DecisionTreeClassifier())])\n",
    "\n",
    "param_grid_5 = {\n",
    "            'classifier__max_depth': [1, 5, 10, 20, 50],\n",
    "            'classifier__max_leaf_nodes': [None, 5, 10, 20, 50, 100, 200],\n",
    "}\n",
    "\n",
    "grid_5 = GridSearchCV(pipeline_5, param_grid_5, cv=kfold, return_train_score=True)\n",
    "\n",
    "grid_5.fit(X_train, y_train)\n",
    "grid_5.best_params_"
   ]
  },
  {
   "cell_type": "code",
   "execution_count": 609,
   "id": "36eecd2f",
   "metadata": {},
   "outputs": [
    {
     "data": {
      "text/plain": [
       "0.7611940298507462"
      ]
     },
     "execution_count": 609,
     "metadata": {},
     "output_type": "execute_result"
    }
   ],
   "source": [
    "metrics.precision_score(y_test, grid_5.predict(X_test))"
   ]
  },
  {
   "cell_type": "markdown",
   "id": "bc107b61",
   "metadata": {},
   "source": [
    "### BaggingClassifier"
   ]
  },
  {
   "cell_type": "code",
   "execution_count": 606,
   "id": "7362c149",
   "metadata": {},
   "outputs": [
    {
     "data": {
      "text/plain": [
       "{'classifier__max_samples': 0.1}"
      ]
     },
     "execution_count": 606,
     "metadata": {},
     "output_type": "execute_result"
    }
   ],
   "source": [
    "pipeline_6 = Pipeline([('classifier', BaggingClassifier())])\n",
    "\n",
    "param_grid_6 = {\n",
    "            'classifier__max_samples' : [0.01, 0.05, 0.08, 0.1, 0.15, 0.2, 0.4, 0.5, 0.7, 1, 2]\n",
    "}\n",
    "\n",
    "grid_6 = GridSearchCV(pipeline_6, param_grid_6, cv=kfold, return_train_score=True)\n",
    "\n",
    "grid_6.fit(X_train, y_train)\n",
    "grid_6.best_params_"
   ]
  },
  {
   "cell_type": "code",
   "execution_count": 607,
   "id": "1b559589",
   "metadata": {},
   "outputs": [
    {
     "data": {
      "text/plain": [
       "0.7837837837837838"
      ]
     },
     "execution_count": 607,
     "metadata": {},
     "output_type": "execute_result"
    }
   ],
   "source": [
    "metrics.precision_score(y_test, grid_6.predict(X_test))"
   ]
  },
  {
   "cell_type": "markdown",
   "id": "c5f70179",
   "metadata": {},
   "source": [
    "### ExtraTreesClassifier"
   ]
  },
  {
   "cell_type": "code",
   "execution_count": 526,
   "id": "ae3ef698",
   "metadata": {},
   "outputs": [
    {
     "data": {
      "text/plain": [
       "{'classifier__max_leaf_nodes': 64, 'classifier__n_estimators': 100}"
      ]
     },
     "execution_count": 526,
     "metadata": {},
     "output_type": "execute_result"
    }
   ],
   "source": [
    "pipeline_7 = Pipeline([('classifier', ExtraTreesClassifier(n_jobs=-1))])\n",
    "\n",
    "param_grid_7 = {\n",
    "            'classifier__n_estimators' : [5, 10, 50, 100],\n",
    "            'classifier__max_leaf_nodes' : [2, 4, 8, 16, 32, 64],\n",
    "}\n",
    "\n",
    "grid_7 = GridSearchCV(pipeline_7, param_grid_7, cv=kfold, return_train_score=True)\n",
    "\n",
    "grid_7.fit(X_train, y_train)\n",
    "grid_7.best_params_"
   ]
  },
  {
   "cell_type": "code",
   "execution_count": 527,
   "id": "49efb927",
   "metadata": {},
   "outputs": [
    {
     "data": {
      "text/plain": [
       "0.735632183908046"
      ]
     },
     "execution_count": 527,
     "metadata": {},
     "output_type": "execute_result"
    }
   ],
   "source": [
    "metrics.precision_score(y_test, grid_7.predict(X_test))"
   ]
  },
  {
   "cell_type": "markdown",
   "id": "1cf55cf0",
   "metadata": {},
   "source": [
    "### AdaBoostClassifier"
   ]
  },
  {
   "cell_type": "code",
   "execution_count": 602,
   "id": "9a9cb969",
   "metadata": {},
   "outputs": [
    {
     "data": {
      "text/plain": [
       "{'classifier__learning_rate': 0.1, 'classifier__n_estimators': 100}"
      ]
     },
     "execution_count": 602,
     "metadata": {},
     "output_type": "execute_result"
    }
   ],
   "source": [
    "pipeline_8 = Pipeline([('classifier', AdaBoostClassifier())])\n",
    "\n",
    "param_grid_8 = {\n",
    "            'classifier__n_estimators' : [5, 10, 50, 100, 500, 600, 700],\n",
    "            'classifier__learning_rate' : [0.001, 0.01, 0.1, 0.5, 0.7, 1],\n",
    "}\n",
    "\n",
    "grid_8 = GridSearchCV(pipeline_8, param_grid_8, cv=kfold, return_train_score=True)\n",
    "\n",
    "grid_8.fit(X_train, y_train)\n",
    "grid_8.best_params_"
   ]
  },
  {
   "cell_type": "code",
   "execution_count": 603,
   "id": "5fd133cb",
   "metadata": {},
   "outputs": [
    {
     "data": {
      "text/plain": [
       "0.828125"
      ]
     },
     "execution_count": 603,
     "metadata": {},
     "output_type": "execute_result"
    }
   ],
   "source": [
    "metrics.precision_score(y_test, grid_8.predict(X_test))"
   ]
  },
  {
   "cell_type": "markdown",
   "id": "f69ada17",
   "metadata": {},
   "source": [
    "### GradientBoostingClassifier"
   ]
  },
  {
   "cell_type": "code",
   "execution_count": 533,
   "id": "6b70cfa9",
   "metadata": {},
   "outputs": [
    {
     "data": {
      "text/plain": [
       "{'classifier__learning_rate': 0.1, 'classifier__n_estimators': 100}"
      ]
     },
     "execution_count": 533,
     "metadata": {},
     "output_type": "execute_result"
    }
   ],
   "source": [
    "pipeline_9 = Pipeline([('classifier', GradientBoostingClassifier())])\n",
    "\n",
    "param_grid_9 = {\n",
    "            'classifier__n_estimators' : [5, 10, 50, 100, 500],\n",
    "            'classifier__learning_rate' : [0.001, 0.01, 0.1, 0.5, 0.7, 1],\n",
    "}\n",
    "\n",
    "grid_9 = GridSearchCV(pipeline_9, param_grid_9, cv=kfold, return_train_score=True)\n",
    "\n",
    "grid_9.fit(X_train, y_train)\n",
    "grid_9.best_params_"
   ]
  },
  {
   "cell_type": "code",
   "execution_count": 534,
   "id": "1529fbac",
   "metadata": {},
   "outputs": [
    {
     "data": {
      "text/plain": [
       "0.7387387387387387"
      ]
     },
     "execution_count": 534,
     "metadata": {},
     "output_type": "execute_result"
    }
   ],
   "source": [
    "metrics.precision_score(y_test, grid_9.predict(X_test))"
   ]
  },
  {
   "cell_type": "markdown",
   "id": "d387e552",
   "metadata": {},
   "source": [
    "### MLPClassifier"
   ]
  },
  {
   "cell_type": "code",
   "execution_count": 599,
   "id": "623b37ac",
   "metadata": {},
   "outputs": [
    {
     "data": {
      "text/plain": [
       "{'classifier__batch_size': 10,\n",
       " 'classifier__hidden_layer_sizes': (30, 30, 30),\n",
       " 'classifier__learning_rate_init': 0.01,\n",
       " 'classifier__max_iter': 1000}"
      ]
     },
     "execution_count": 599,
     "metadata": {},
     "output_type": "execute_result"
    }
   ],
   "source": [
    "pipeline_10 = Pipeline([('classifier', MLPClassifier())])\n",
    "\n",
    "param_grid_10 = {\n",
    "            'classifier__hidden_layer_sizes': [(30,30,30)],\n",
    "            'classifier__learning_rate_init': [0.01, 0.1],\n",
    "            'classifier__max_iter': [500,1000,10000],\n",
    "            'classifier__batch_size':[10, 20, 30, 40],\n",
    "}\n",
    "\n",
    "grid_10 = GridSearchCV(pipeline_10, param_grid_10, cv=kfold, return_train_score=True)\n",
    "\n",
    "grid_10.fit(X_train, y_train)\n",
    "grid_10.best_params_"
   ]
  },
  {
   "cell_type": "code",
   "execution_count": 601,
   "id": "ca7f7435",
   "metadata": {},
   "outputs": [
    {
     "data": {
      "text/plain": [
       "0.6428571428571429"
      ]
     },
     "execution_count": 601,
     "metadata": {},
     "output_type": "execute_result"
    }
   ],
   "source": [
    "metrics.precision_score(y_test, grid_10.predict(X_test))"
   ]
  },
  {
   "cell_type": "markdown",
   "id": "b4f331c8",
   "metadata": {},
   "source": [
    "## Porównanie modeli"
   ]
  },
  {
   "cell_type": "code",
   "execution_count": 622,
   "id": "fe82468c",
   "metadata": {},
   "outputs": [
    {
     "data": {
      "text/html": [
       "<div>\n",
       "<style scoped>\n",
       "    .dataframe tbody tr th:only-of-type {\n",
       "        vertical-align: middle;\n",
       "    }\n",
       "\n",
       "    .dataframe tbody tr th {\n",
       "        vertical-align: top;\n",
       "    }\n",
       "\n",
       "    .dataframe thead th {\n",
       "        text-align: right;\n",
       "    }\n",
       "</style>\n",
       "<table border=\"1\" class=\"dataframe\">\n",
       "  <thead>\n",
       "    <tr style=\"text-align: right;\">\n",
       "      <th></th>\n",
       "      <th>Method</th>\n",
       "      <th>precision_score</th>\n",
       "      <th>recall_score</th>\n",
       "      <th>f1_score</th>\n",
       "      <th>accuracy_score</th>\n",
       "      <th>roc_auc_score</th>\n",
       "    </tr>\n",
       "  </thead>\n",
       "  <tbody>\n",
       "    <tr>\n",
       "      <th>0</th>\n",
       "      <td>Random Forest</td>\n",
       "      <td>0.847222</td>\n",
       "      <td>0.525862</td>\n",
       "      <td>0.648936</td>\n",
       "      <td>0.868</td>\n",
       "      <td>0.873765</td>\n",
       "    </tr>\n",
       "    <tr>\n",
       "      <th>7</th>\n",
       "      <td>Ada Boost Classifier</td>\n",
       "      <td>0.828125</td>\n",
       "      <td>0.456897</td>\n",
       "      <td>0.588889</td>\n",
       "      <td>0.852</td>\n",
       "      <td>0.869567</td>\n",
       "    </tr>\n",
       "    <tr>\n",
       "      <th>2</th>\n",
       "      <td>SVM linear</td>\n",
       "      <td>0.784810</td>\n",
       "      <td>0.534483</td>\n",
       "      <td>0.635897</td>\n",
       "      <td>0.858</td>\n",
       "      <td>0.877514</td>\n",
       "    </tr>\n",
       "    <tr>\n",
       "      <th>5</th>\n",
       "      <td>Bagging Classifier</td>\n",
       "      <td>0.783784</td>\n",
       "      <td>0.500000</td>\n",
       "      <td>0.610526</td>\n",
       "      <td>0.852</td>\n",
       "      <td>0.801870</td>\n",
       "    </tr>\n",
       "    <tr>\n",
       "      <th>6</th>\n",
       "      <td>Extra Trees Classifier</td>\n",
       "      <td>0.781250</td>\n",
       "      <td>0.431034</td>\n",
       "      <td>0.555556</td>\n",
       "      <td>0.840</td>\n",
       "      <td>0.869635</td>\n",
       "    </tr>\n",
       "    <tr>\n",
       "      <th>8</th>\n",
       "      <td>Gradient Boosting Classifier</td>\n",
       "      <td>0.779070</td>\n",
       "      <td>0.577586</td>\n",
       "      <td>0.663366</td>\n",
       "      <td>0.864</td>\n",
       "      <td>0.859577</td>\n",
       "    </tr>\n",
       "    <tr>\n",
       "      <th>4</th>\n",
       "      <td>Decision Tree Classifier</td>\n",
       "      <td>0.761194</td>\n",
       "      <td>0.439655</td>\n",
       "      <td>0.557377</td>\n",
       "      <td>0.838</td>\n",
       "      <td>0.698994</td>\n",
       "    </tr>\n",
       "    <tr>\n",
       "      <th>1</th>\n",
       "      <td>Logistic Regression</td>\n",
       "      <td>0.697917</td>\n",
       "      <td>0.577586</td>\n",
       "      <td>0.632075</td>\n",
       "      <td>0.844</td>\n",
       "      <td>0.861126</td>\n",
       "    </tr>\n",
       "    <tr>\n",
       "      <th>9</th>\n",
       "      <td>MLP Classifier</td>\n",
       "      <td>0.642857</td>\n",
       "      <td>0.543103</td>\n",
       "      <td>0.588785</td>\n",
       "      <td>0.824</td>\n",
       "      <td>0.852146</td>\n",
       "    </tr>\n",
       "    <tr>\n",
       "      <th>3</th>\n",
       "      <td>K Neighbors Classifier</td>\n",
       "      <td>0.623377</td>\n",
       "      <td>0.413793</td>\n",
       "      <td>0.497409</td>\n",
       "      <td>0.806</td>\n",
       "      <td>0.789871</td>\n",
       "    </tr>\n",
       "  </tbody>\n",
       "</table>\n",
       "</div>"
      ],
      "text/plain": [
       "                         Method  precision_score  recall_score  f1_score  \\\n",
       "0                 Random Forest         0.847222      0.525862  0.648936   \n",
       "7          Ada Boost Classifier         0.828125      0.456897  0.588889   \n",
       "2                    SVM linear         0.784810      0.534483  0.635897   \n",
       "5            Bagging Classifier         0.783784      0.500000  0.610526   \n",
       "6        Extra Trees Classifier         0.781250      0.431034  0.555556   \n",
       "8  Gradient Boosting Classifier         0.779070      0.577586  0.663366   \n",
       "4      Decision Tree Classifier         0.761194      0.439655  0.557377   \n",
       "1           Logistic Regression         0.697917      0.577586  0.632075   \n",
       "9                MLP Classifier         0.642857      0.543103  0.588785   \n",
       "3        K Neighbors Classifier         0.623377      0.413793  0.497409   \n",
       "\n",
       "   accuracy_score  roc_auc_score  \n",
       "0           0.868       0.873765  \n",
       "7           0.852       0.869567  \n",
       "2           0.858       0.877514  \n",
       "5           0.852       0.801870  \n",
       "6           0.840       0.869635  \n",
       "8           0.864       0.859577  \n",
       "4           0.838       0.698994  \n",
       "1           0.844       0.861126  \n",
       "9           0.824       0.852146  \n",
       "3           0.806       0.789871  "
      ]
     },
     "execution_count": 622,
     "metadata": {},
     "output_type": "execute_result"
    }
   ],
   "source": [
    "models = []\n",
    "models.append(('Random Forest', grid_1.best_estimator_))\n",
    "models.append(('Logistic Regression', grid_2.best_estimator_))\n",
    "models.append(('SVM linear', grid_3.best_estimator_))\n",
    "models.append(('K Neighbors Classifier', grid_4.best_estimator_))\n",
    "models.append(('Decision Tree Classifier', grid_5.best_estimator_))\n",
    "models.append(('Bagging Classifier', grid_6.best_estimator_))\n",
    "models.append(('Extra Trees Classifier', grid_7.best_estimator_))\n",
    "models.append(('Ada Boost Classifier', grid_8.best_estimator_))\n",
    "models.append(('Gradient Boosting Classifier', grid_9.best_estimator_))\n",
    "models.append(('MLP Classifier', grid_10.best_estimator_))\n",
    "\n",
    "precision_score = []\n",
    "recall_score = []\n",
    "f1_score = []\n",
    "accuracy_score = []\n",
    "roc_auc_score = []\n",
    "for name, model in models:\n",
    "    precision_score.append(metrics.precision_score(y_test , model.predict(X_test)))\n",
    "    recall_score.append(metrics.recall_score(y_test , model.predict(X_test)))\n",
    "    f1_score.append( metrics.f1_score(y_test , model.predict(X_test)))\n",
    "    accuracy_score.append(metrics.accuracy_score(y_test , model.predict(X_test)))\n",
    "    if (name == 'SVM linear'):\n",
    "        roc_auc_score.append(metrics.roc_auc_score(y_test , model.decision_function(X_test)))        \n",
    "    else:    \n",
    "        roc_auc_score.append(metrics.roc_auc_score(y_test , model.predict_proba(X_test)[:,1]))\n",
    "        \n",
    "d = {'precision_score': precision_score, \n",
    "     'recall_score': recall_score, \n",
    "     'f1_score': f1_score,\n",
    "     'accuracy_score' : accuracy_score,\n",
    "     'roc_auc_score' : roc_auc_score\n",
    "    }\n",
    "df = pd.DataFrame(data=d)\n",
    "df.insert(loc=0, column='Method', value=['Random Forest', 'Logistic Regression', 'SVM linear', 'K Neighbors Classifier', 'Decision Tree Classifier', 'Bagging Classifier', 'Extra Trees Classifier', \n",
    "                                         'Ada Boost Classifier', 'Gradient Boosting Classifier', 'MLP Classifier'])\n",
    "df.sort_values(by=['precision_score'], ascending=False)"
   ]
  },
  {
   "cell_type": "code",
   "execution_count": 623,
   "id": "7686be10",
   "metadata": {},
   "outputs": [
    {
     "data": {
      "image/png": "[encoded data removed]",
      "text/plain": [
       "<Figure size 432x288 with 2 Axes>"
      ]
     },
     "metadata": {},
     "output_type": "display_data"
    },
    {
     "data": {
      "image/png": "[encoded data removed]",
      "text/plain": [
       "<Figure size 432x288 with 2 Axes>"
      ]
     },
     "metadata": {},
     "output_type": "display_data"
    },
    {
     "data": {
      "image/png": "[encoded data removed]",
      "text/plain": [
       "<Figure size 432x288 with 2 Axes>"
      ]
     },
     "metadata": {},
     "output_type": "display_data"
    },
    {
     "data": {
      "image/png": "[encoded data removed]",
      "text/plain": [
       "<Figure size 432x288 with 2 Axes>"
      ]
     },
     "metadata": {},
     "output_type": "display_data"
    },
    {
     "data": {
      "image/png": "[encoded data removed]",
      "text/plain": [
       "<Figure size 432x288 with 2 Axes>"
      ]
     },
     "metadata": {},
     "output_type": "display_data"
    },
    {
     "data": {
      "image/png": "[encoded data removed]",
      "text/plain": [
       "<Figure size 432x288 with 2 Axes>"
      ]
     },
     "metadata": {},
     "output_type": "display_data"
    },
    {
     "data": {
      "image/png": "[encoded data removed]",
      "text/plain": [
       "<Figure size 432x288 with 2 Axes>"
      ]
     },
     "metadata": {},
     "output_type": "display_data"
    },
    {
     "data": {
      "image/png": "[encoded data removed]",
      "text/plain": [
       "<Figure size 432x288 with 2 Axes>"
      ]
     },
     "metadata": {},
     "output_type": "display_data"
    },
    {
     "data": {
      "image/png": "[encoded data removed]",
      "text/plain": [
       "<Figure size 432x288 with 2 Axes>"
      ]
     },
     "metadata": {},
     "output_type": "display_data"
    },
    {
     "data": {
      "image/png": "[encoded data removed]",
      "text/plain": [
       "<Figure size 432x288 with 2 Axes>"
      ]
     },
     "metadata": {},
     "output_type": "display_data"
    }
   ],
   "source": [
    "for name, model in models:\n",
    "    cm = plot_confusion_matrix(model, X_test, y_test, normalize = 'all')\n",
    "    cm.ax_.set_title(name)"
   ]
  },
  {
   "cell_type": "markdown",
   "id": "eb6691fa",
   "metadata": {},
   "source": [
    "Jak możemy zauważyć zarówno z powyższej tabelki jak i z tablicy pomyłek najlepiej poradziły sobie modele Random Forest oraz Ada Boost."
   ]
  },
  {
   "cell_type": "markdown",
   "id": "8e67ec49",
   "metadata": {},
   "source": [
    "# Siecie neuronowe"
   ]
  },
  {
   "cell_type": "markdown",
   "id": "e8a82be9",
   "metadata": {},
   "source": [
    "### Early Stopping"
   ]
  },
  {
   "cell_type": "code",
   "execution_count": 539,
   "id": "5326b04e",
   "metadata": {},
   "outputs": [
    {
     "name": "stdout",
     "output_type": "stream",
     "text": [
      "Model: \"sequential_5\"\n",
      "_________________________________________________________________\n",
      "Layer (type)                 Output Shape              Param #   \n",
      "=================================================================\n",
      "dense_16 (Dense)             (None, 100)               2200      \n",
      "_________________________________________________________________\n",
      "dense_17 (Dense)             (None, 50)                5050      \n",
      "_________________________________________________________________\n",
      "dense_18 (Dense)             (None, 10)                510       \n",
      "_________________________________________________________________\n",
      "dense_19 (Dense)             (None, 1)                 11        \n",
      "=================================================================\n",
      "Total params: 7,771\n",
      "Trainable params: 7,771\n",
      "Non-trainable params: 0\n",
      "_________________________________________________________________\n"
     ]
    }
   ],
   "source": [
    "history = History()\n",
    "model = Sequential()\n",
    "model.add(Dense(100,activation=\"sigmoid\",input_shape=(X_train.shape[1],)))\n",
    "model.add(Dense(50,activation=\"sigmoid\"))\n",
    "model.add(Dense(10,activation=\"sigmoid\"))\n",
    "model.add(Dense(1,activation=\"sigmoid\"))\n",
    "model.summary()"
   ]
  },
  {
   "cell_type": "code",
   "execution_count": 540,
   "id": "fc298f92",
   "metadata": {},
   "outputs": [],
   "source": [
    "model.compile(loss=\"binary_crossentropy\",optimizer=\"Adam\", metrics=[\"accuracy\"])"
   ]
  },
  {
   "cell_type": "code",
   "execution_count": 541,
   "id": "f9f14d8f",
   "metadata": {},
   "outputs": [
    {
     "name": "stdout",
     "output_type": "stream",
     "text": [
      "Epoch 1/300\n",
      "20/20 [==============================] - 3s 54ms/step - loss: 1.0758 - accuracy: 0.2321 - val_loss: 0.7691 - val_accuracy: 0.2304\n",
      "Epoch 2/300\n",
      "20/20 [==============================] - 0s 10ms/step - loss: 0.7204 - accuracy: 0.3650 - val_loss: 0.6286 - val_accuracy: 0.7696\n",
      "Epoch 3/300\n",
      "20/20 [==============================] - 0s 12ms/step - loss: 0.6073 - accuracy: 0.7949 - val_loss: 0.5831 - val_accuracy: 0.7696\n",
      "Epoch 4/300\n",
      "20/20 [==============================] - 0s 11ms/step - loss: 0.5606 - accuracy: 0.8007 - val_loss: 0.5623 - val_accuracy: 0.7696\n",
      "Epoch 5/300\n",
      "20/20 [==============================] - 0s 11ms/step - loss: 0.5475 - accuracy: 0.7859 - val_loss: 0.5513 - val_accuracy: 0.7696\n",
      "Epoch 6/300\n",
      "20/20 [==============================] - 0s 11ms/step - loss: 0.5497 - accuracy: 0.7674 - val_loss: 0.5443 - val_accuracy: 0.7696\n",
      "Epoch 7/300\n",
      "20/20 [==============================] - 0s 10ms/step - loss: 0.5584 - accuracy: 0.7497 - val_loss: 0.5387 - val_accuracy: 0.7696\n",
      "Epoch 8/300\n",
      "20/20 [==============================] - 0s 9ms/step - loss: 0.5409 - accuracy: 0.7639 - val_loss: 0.5336 - val_accuracy: 0.7696\n",
      "Epoch 9/300\n",
      "20/20 [==============================] - 0s 13ms/step - loss: 0.5393 - accuracy: 0.7597 - val_loss: 0.5282 - val_accuracy: 0.7696\n",
      "Epoch 10/300\n",
      "20/20 [==============================] - 0s 12ms/step - loss: 0.5355 - accuracy: 0.7591 - val_loss: 0.5222 - val_accuracy: 0.7696\n",
      "Epoch 11/300\n",
      "20/20 [==============================] - 0s 11ms/step - loss: 0.5078 - accuracy: 0.7801 - val_loss: 0.5139 - val_accuracy: 0.7696\n",
      "Epoch 12/300\n",
      "20/20 [==============================] - 0s 12ms/step - loss: 0.5124 - accuracy: 0.7645 - val_loss: 0.5028 - val_accuracy: 0.7696\n",
      "Epoch 13/300\n",
      "20/20 [==============================] - 0s 11ms/step - loss: 0.4840 - accuracy: 0.7805 - val_loss: 0.4891 - val_accuracy: 0.7696\n",
      "Epoch 14/300\n",
      "20/20 [==============================] - 0s 13ms/step - loss: 0.4640 - accuracy: 0.7794 - val_loss: 0.4736 - val_accuracy: 0.7952\n",
      "Epoch 15/300\n",
      "20/20 [==============================] - 0s 11ms/step - loss: 0.4459 - accuracy: 0.8173 - val_loss: 0.4596 - val_accuracy: 0.8096\n",
      "Epoch 16/300\n",
      "20/20 [==============================] - 0s 11ms/step - loss: 0.4506 - accuracy: 0.8158 - val_loss: 0.4481 - val_accuracy: 0.8192\n",
      "Epoch 17/300\n",
      "20/20 [==============================] - 0s 12ms/step - loss: 0.4192 - accuracy: 0.8532 - val_loss: 0.4385 - val_accuracy: 0.8256\n",
      "Epoch 18/300\n",
      "20/20 [==============================] - 0s 11ms/step - loss: 0.3886 - accuracy: 0.8595 - val_loss: 0.4309 - val_accuracy: 0.8240\n",
      "Epoch 19/300\n",
      "20/20 [==============================] - 0s 10ms/step - loss: 0.4013 - accuracy: 0.8585 - val_loss: 0.4253 - val_accuracy: 0.8304\n",
      "Epoch 20/300\n",
      "20/20 [==============================] - 0s 16ms/step - loss: 0.3919 - accuracy: 0.8573 - val_loss: 0.4204 - val_accuracy: 0.8320\n",
      "Epoch 21/300\n",
      "20/20 [==============================] - 0s 13ms/step - loss: 0.3811 - accuracy: 0.8564 - val_loss: 0.4165 - val_accuracy: 0.8336\n",
      "Epoch 22/300\n",
      "20/20 [==============================] - 0s 12ms/step - loss: 0.3538 - accuracy: 0.8865 - val_loss: 0.4141 - val_accuracy: 0.8288\n",
      "Epoch 23/300\n",
      "20/20 [==============================] - 0s 17ms/step - loss: 0.3570 - accuracy: 0.8840 - val_loss: 0.4102 - val_accuracy: 0.8384\n",
      "Epoch 24/300\n",
      "20/20 [==============================] - 0s 16ms/step - loss: 0.3673 - accuracy: 0.8707 - val_loss: 0.4078 - val_accuracy: 0.8464\n",
      "Epoch 25/300\n",
      "20/20 [==============================] - 0s 13ms/step - loss: 0.3850 - accuracy: 0.8554 - val_loss: 0.4060 - val_accuracy: 0.8416\n",
      "Epoch 26/300\n",
      "20/20 [==============================] - 0s 19ms/step - loss: 0.3319 - accuracy: 0.8843 - val_loss: 0.4043 - val_accuracy: 0.8384\n",
      "Epoch 27/300\n",
      "20/20 [==============================] - 0s 14ms/step - loss: 0.3493 - accuracy: 0.8702 - val_loss: 0.4024 - val_accuracy: 0.8400\n",
      "Epoch 28/300\n",
      "20/20 [==============================] - 0s 13ms/step - loss: 0.3636 - accuracy: 0.8554 - val_loss: 0.3997 - val_accuracy: 0.8416\n",
      "Epoch 29/300\n",
      "20/20 [==============================] - 0s 12ms/step - loss: 0.3627 - accuracy: 0.8701 - val_loss: 0.3989 - val_accuracy: 0.8368\n",
      "Epoch 30/300\n",
      "20/20 [==============================] - 0s 11ms/step - loss: 0.3436 - accuracy: 0.8763 - val_loss: 0.3969 - val_accuracy: 0.8416\n",
      "Epoch 31/300\n",
      "20/20 [==============================] - 0s 14ms/step - loss: 0.3583 - accuracy: 0.8542 - val_loss: 0.3959 - val_accuracy: 0.8304\n",
      "Epoch 32/300\n",
      "20/20 [==============================] - 0s 14ms/step - loss: 0.3759 - accuracy: 0.8574 - val_loss: 0.3941 - val_accuracy: 0.8432\n",
      "Epoch 33/300\n",
      "20/20 [==============================] - 0s 13ms/step - loss: 0.3669 - accuracy: 0.8727 - val_loss: 0.3938 - val_accuracy: 0.8304\n",
      "Epoch 34/300\n",
      "20/20 [==============================] - 0s 13ms/step - loss: 0.3481 - accuracy: 0.8647 - val_loss: 0.3922 - val_accuracy: 0.8320\n",
      "Epoch 35/300\n",
      "20/20 [==============================] - 0s 12ms/step - loss: 0.3688 - accuracy: 0.8527 - val_loss: 0.3916 - val_accuracy: 0.8336\n",
      "Epoch 36/300\n",
      "20/20 [==============================] - 0s 16ms/step - loss: 0.3438 - accuracy: 0.8816 - val_loss: 0.3901 - val_accuracy: 0.8400\n",
      "Epoch 37/300\n",
      "20/20 [==============================] - 0s 13ms/step - loss: 0.3563 - accuracy: 0.8769 - val_loss: 0.3900 - val_accuracy: 0.8288\n",
      "Epoch 38/300\n",
      "20/20 [==============================] - 0s 16ms/step - loss: 0.3411 - accuracy: 0.8694 - val_loss: 0.3880 - val_accuracy: 0.8320\n",
      "Epoch 39/300\n",
      "20/20 [==============================] - 0s 10ms/step - loss: 0.3342 - accuracy: 0.8836 - val_loss: 0.3879 - val_accuracy: 0.8320\n",
      "Epoch 40/300\n",
      "20/20 [==============================] - 0s 12ms/step - loss: 0.3057 - accuracy: 0.8874 - val_loss: 0.3871 - val_accuracy: 0.8336\n",
      "Epoch 41/300\n",
      "20/20 [==============================] - 0s 13ms/step - loss: 0.3520 - accuracy: 0.8685 - val_loss: 0.3858 - val_accuracy: 0.8368\n",
      "Epoch 42/300\n",
      "20/20 [==============================] - 0s 17ms/step - loss: 0.3501 - accuracy: 0.8710 - val_loss: 0.3849 - val_accuracy: 0.8384\n",
      "Epoch 43/300\n",
      "20/20 [==============================] - 0s 14ms/step - loss: 0.3456 - accuracy: 0.8710 - val_loss: 0.3855 - val_accuracy: 0.8336\n",
      "Epoch 44/300\n",
      "20/20 [==============================] - 0s 13ms/step - loss: 0.3165 - accuracy: 0.8792 - val_loss: 0.3839 - val_accuracy: 0.8368\n",
      "Epoch 45/300\n",
      "20/20 [==============================] - 0s 12ms/step - loss: 0.3253 - accuracy: 0.8775 - val_loss: 0.3835 - val_accuracy: 0.8416\n",
      "Epoch 46/300\n",
      "20/20 [==============================] - 0s 11ms/step - loss: 0.3108 - accuracy: 0.8853 - val_loss: 0.3833 - val_accuracy: 0.8336\n",
      "Epoch 47/300\n",
      "20/20 [==============================] - 0s 9ms/step - loss: 0.3242 - accuracy: 0.8697 - val_loss: 0.3827 - val_accuracy: 0.8368\n",
      "Epoch 48/300\n",
      "20/20 [==============================] - 0s 12ms/step - loss: 0.3484 - accuracy: 0.8570 - val_loss: 0.3810 - val_accuracy: 0.8448\n",
      "Epoch 49/300\n",
      "20/20 [==============================] - 0s 11ms/step - loss: 0.3445 - accuracy: 0.8613 - val_loss: 0.3809 - val_accuracy: 0.8464\n",
      "Epoch 50/300\n",
      "20/20 [==============================] - 0s 11ms/step - loss: 0.3510 - accuracy: 0.8497 - val_loss: 0.3813 - val_accuracy: 0.8352\n",
      "Epoch 51/300\n",
      "20/20 [==============================] - 0s 8ms/step - loss: 0.3123 - accuracy: 0.8835 - val_loss: 0.3804 - val_accuracy: 0.8384\n",
      "Epoch 52/300\n",
      "20/20 [==============================] - 0s 9ms/step - loss: 0.3294 - accuracy: 0.8792 - val_loss: 0.3795 - val_accuracy: 0.8464\n",
      "Epoch 53/300\n",
      "20/20 [==============================] - 0s 9ms/step - loss: 0.3479 - accuracy: 0.8602 - val_loss: 0.3805 - val_accuracy: 0.8320\n",
      "Epoch 54/300\n",
      "20/20 [==============================] - 0s 12ms/step - loss: 0.3205 - accuracy: 0.8794 - val_loss: 0.3793 - val_accuracy: 0.8352\n",
      "Epoch 55/300\n",
      "20/20 [==============================] - 0s 10ms/step - loss: 0.3128 - accuracy: 0.8811 - val_loss: 0.3784 - val_accuracy: 0.8432\n",
      "Epoch 56/300\n",
      "20/20 [==============================] - 0s 10ms/step - loss: 0.2771 - accuracy: 0.8932 - val_loss: 0.3785 - val_accuracy: 0.8368\n",
      "Epoch 57/300\n",
      "20/20 [==============================] - 0s 11ms/step - loss: 0.3288 - accuracy: 0.8706 - val_loss: 0.3775 - val_accuracy: 0.8416\n",
      "Epoch 58/300\n",
      "20/20 [==============================] - 0s 9ms/step - loss: 0.3050 - accuracy: 0.8876 - val_loss: 0.3764 - val_accuracy: 0.8480\n",
      "Epoch 59/300\n",
      "20/20 [==============================] - 0s 10ms/step - loss: 0.3313 - accuracy: 0.8613 - val_loss: 0.3761 - val_accuracy: 0.8432\n",
      "Epoch 60/300\n",
      "20/20 [==============================] - 0s 13ms/step - loss: 0.3268 - accuracy: 0.8734 - val_loss: 0.3760 - val_accuracy: 0.8448\n",
      "Epoch 61/300\n",
      "20/20 [==============================] - 0s 10ms/step - loss: 0.3199 - accuracy: 0.8662 - val_loss: 0.3755 - val_accuracy: 0.8432\n",
      "Epoch 62/300\n",
      "20/20 [==============================] - 0s 10ms/step - loss: 0.3157 - accuracy: 0.8633 - val_loss: 0.3753 - val_accuracy: 0.8480\n",
      "Epoch 63/300\n",
      "20/20 [==============================] - 0s 11ms/step - loss: 0.2873 - accuracy: 0.8820 - val_loss: 0.3752 - val_accuracy: 0.8464\n",
      "Epoch 64/300\n",
      "20/20 [==============================] - 0s 11ms/step - loss: 0.3116 - accuracy: 0.8783 - val_loss: 0.3744 - val_accuracy: 0.8448\n",
      "Epoch 65/300\n",
      "20/20 [==============================] - 0s 10ms/step - loss: 0.3218 - accuracy: 0.8633 - val_loss: 0.3750 - val_accuracy: 0.8448\n",
      "Epoch 66/300\n",
      "20/20 [==============================] - 0s 11ms/step - loss: 0.2887 - accuracy: 0.8814 - val_loss: 0.3736 - val_accuracy: 0.8464\n",
      "Epoch 67/300\n",
      "20/20 [==============================] - 0s 10ms/step - loss: 0.2955 - accuracy: 0.8835 - val_loss: 0.3745 - val_accuracy: 0.8400\n",
      "Epoch 68/300\n",
      "20/20 [==============================] - 0s 11ms/step - loss: 0.3024 - accuracy: 0.8729 - val_loss: 0.3741 - val_accuracy: 0.8480\n",
      "Epoch 69/300\n",
      "20/20 [==============================] - 0s 12ms/step - loss: 0.3245 - accuracy: 0.8560 - val_loss: 0.3729 - val_accuracy: 0.8496\n",
      "Epoch 70/300\n",
      "20/20 [==============================] - 0s 14ms/step - loss: 0.3135 - accuracy: 0.8653 - val_loss: 0.3733 - val_accuracy: 0.8480\n",
      "Epoch 71/300\n",
      "20/20 [==============================] - 0s 11ms/step - loss: 0.2881 - accuracy: 0.8811 - val_loss: 0.3736 - val_accuracy: 0.8512\n",
      "Epoch 72/300\n",
      "20/20 [==============================] - 0s 11ms/step - loss: 0.3189 - accuracy: 0.8590 - val_loss: 0.3730 - val_accuracy: 0.8496\n",
      "Epoch 73/300\n",
      "20/20 [==============================] - 0s 9ms/step - loss: 0.2884 - accuracy: 0.8811 - val_loss: 0.3730 - val_accuracy: 0.8512\n",
      "Epoch 74/300\n",
      "20/20 [==============================] - 0s 13ms/step - loss: 0.2980 - accuracy: 0.8793 - val_loss: 0.3724 - val_accuracy: 0.8480\n",
      "Epoch 75/300\n",
      "20/20 [==============================] - 0s 10ms/step - loss: 0.2867 - accuracy: 0.8874 - val_loss: 0.3730 - val_accuracy: 0.8496\n",
      "Epoch 76/300\n",
      "20/20 [==============================] - 0s 16ms/step - loss: 0.3211 - accuracy: 0.8811 - val_loss: 0.3733 - val_accuracy: 0.8528\n",
      "Epoch 77/300\n",
      "20/20 [==============================] - 0s 12ms/step - loss: 0.2907 - accuracy: 0.8826 - val_loss: 0.3733 - val_accuracy: 0.8448\n",
      "Epoch 78/300\n",
      "20/20 [==============================] - 0s 11ms/step - loss: 0.2982 - accuracy: 0.8673 - val_loss: 0.3734 - val_accuracy: 0.8480\n",
      "Epoch 79/300\n",
      "20/20 [==============================] - 0s 10ms/step - loss: 0.2929 - accuracy: 0.8822 - val_loss: 0.3726 - val_accuracy: 0.8432\n",
      "Epoch 80/300\n",
      "20/20 [==============================] - 0s 9ms/step - loss: 0.2643 - accuracy: 0.8939 - val_loss: 0.3717 - val_accuracy: 0.8496\n",
      "Epoch 81/300\n",
      "20/20 [==============================] - 0s 10ms/step - loss: 0.2892 - accuracy: 0.8816 - val_loss: 0.3730 - val_accuracy: 0.8480\n",
      "Epoch 82/300\n",
      "20/20 [==============================] - 0s 10ms/step - loss: 0.2876 - accuracy: 0.8755 - val_loss: 0.3728 - val_accuracy: 0.8512\n",
      "Epoch 83/300\n",
      "20/20 [==============================] - 0s 10ms/step - loss: 0.2741 - accuracy: 0.8796 - val_loss: 0.3720 - val_accuracy: 0.8464\n",
      "Epoch 84/300\n",
      "20/20 [==============================] - 0s 11ms/step - loss: 0.2895 - accuracy: 0.8699 - val_loss: 0.3728 - val_accuracy: 0.8480\n",
      "Epoch 85/300\n",
      "20/20 [==============================] - 0s 11ms/step - loss: 0.2920 - accuracy: 0.8799 - val_loss: 0.3733 - val_accuracy: 0.8544\n",
      "Epoch 86/300\n",
      "20/20 [==============================] - 0s 10ms/step - loss: 0.2912 - accuracy: 0.8770 - val_loss: 0.3728 - val_accuracy: 0.8464\n",
      "Epoch 87/300\n",
      "20/20 [==============================] - 0s 11ms/step - loss: 0.2559 - accuracy: 0.8964 - val_loss: 0.3722 - val_accuracy: 0.8496\n",
      "Epoch 88/300\n",
      "20/20 [==============================] - 0s 10ms/step - loss: 0.2821 - accuracy: 0.8812 - val_loss: 0.3743 - val_accuracy: 0.8480\n",
      "Epoch 89/300\n",
      "20/20 [==============================] - 0s 10ms/step - loss: 0.2799 - accuracy: 0.8707 - val_loss: 0.3727 - val_accuracy: 0.8496\n",
      "Epoch 90/300\n",
      "20/20 [==============================] - 0s 9ms/step - loss: 0.2582 - accuracy: 0.8851 - val_loss: 0.3731 - val_accuracy: 0.8480\n",
      "Epoch 91/300\n",
      "20/20 [==============================] - 0s 10ms/step - loss: 0.2673 - accuracy: 0.8801 - val_loss: 0.3719 - val_accuracy: 0.8496\n",
      "Epoch 92/300\n",
      "20/20 [==============================] - 0s 9ms/step - loss: 0.2679 - accuracy: 0.8849 - val_loss: 0.3733 - val_accuracy: 0.8512\n",
      "Epoch 93/300\n",
      "20/20 [==============================] - 0s 7ms/step - loss: 0.2833 - accuracy: 0.8834 - val_loss: 0.3730 - val_accuracy: 0.8496\n",
      "Epoch 94/300\n",
      "20/20 [==============================] - 0s 10ms/step - loss: 0.2540 - accuracy: 0.9013 - val_loss: 0.3729 - val_accuracy: 0.8496\n",
      "Epoch 95/300\n",
      "20/20 [==============================] - 0s 11ms/step - loss: 0.2462 - accuracy: 0.8939 - val_loss: 0.3730 - val_accuracy: 0.8512\n",
      "Epoch 96/300\n",
      "20/20 [==============================] - 0s 9ms/step - loss: 0.2510 - accuracy: 0.9027 - val_loss: 0.3739 - val_accuracy: 0.8528\n",
      "Epoch 97/300\n",
      "20/20 [==============================] - 0s 11ms/step - loss: 0.2748 - accuracy: 0.8905 - val_loss: 0.3734 - val_accuracy: 0.8528\n",
      "Epoch 98/300\n",
      "20/20 [==============================] - 0s 10ms/step - loss: 0.2466 - accuracy: 0.8998 - val_loss: 0.3716 - val_accuracy: 0.8512\n",
      "Epoch 99/300\n",
      "20/20 [==============================] - 0s 11ms/step - loss: 0.2625 - accuracy: 0.8980 - val_loss: 0.3722 - val_accuracy: 0.8544\n",
      "Epoch 100/300\n",
      "20/20 [==============================] - 0s 11ms/step - loss: 0.2598 - accuracy: 0.8892 - val_loss: 0.3720 - val_accuracy: 0.8528\n",
      "Epoch 101/300\n",
      "20/20 [==============================] - 0s 10ms/step - loss: 0.2541 - accuracy: 0.8852 - val_loss: 0.3733 - val_accuracy: 0.8560\n",
      "Epoch 102/300\n",
      "20/20 [==============================] - 0s 10ms/step - loss: 0.2638 - accuracy: 0.8930 - val_loss: 0.3746 - val_accuracy: 0.8512\n",
      "Epoch 103/300\n",
      "20/20 [==============================] - 0s 12ms/step - loss: 0.2694 - accuracy: 0.8901 - val_loss: 0.3734 - val_accuracy: 0.8544\n",
      "Epoch 104/300\n",
      "20/20 [==============================] - 0s 10ms/step - loss: 0.2685 - accuracy: 0.8765 - val_loss: 0.3739 - val_accuracy: 0.8560\n",
      "Epoch 105/300\n",
      "20/20 [==============================] - 0s 8ms/step - loss: 0.2165 - accuracy: 0.9126 - val_loss: 0.3752 - val_accuracy: 0.8464\n",
      "Epoch 106/300\n",
      "20/20 [==============================] - 0s 12ms/step - loss: 0.2294 - accuracy: 0.9052 - val_loss: 0.3734 - val_accuracy: 0.8528\n",
      "Epoch 107/300\n",
      "20/20 [==============================] - 0s 9ms/step - loss: 0.2747 - accuracy: 0.8883 - val_loss: 0.3715 - val_accuracy: 0.8512\n",
      "Epoch 108/300\n",
      "20/20 [==============================] - 0s 8ms/step - loss: 0.2627 - accuracy: 0.8809 - val_loss: 0.3727 - val_accuracy: 0.8576\n",
      "Epoch 109/300\n",
      "20/20 [==============================] - 0s 13ms/step - loss: 0.2464 - accuracy: 0.9132 - val_loss: 0.3744 - val_accuracy: 0.8496\n",
      "Epoch 110/300\n",
      "20/20 [==============================] - 0s 9ms/step - loss: 0.2556 - accuracy: 0.8948 - val_loss: 0.3729 - val_accuracy: 0.8576\n",
      "Epoch 111/300\n",
      "20/20 [==============================] - 0s 12ms/step - loss: 0.2594 - accuracy: 0.8880 - val_loss: 0.3747 - val_accuracy: 0.8496\n",
      "Epoch 112/300\n",
      "20/20 [==============================] - 0s 9ms/step - loss: 0.2475 - accuracy: 0.8915 - val_loss: 0.3755 - val_accuracy: 0.8608\n",
      "Epoch 113/300\n",
      "20/20 [==============================] - 0s 9ms/step - loss: 0.2159 - accuracy: 0.9101 - val_loss: 0.3752 - val_accuracy: 0.8512\n",
      "Epoch 114/300\n",
      "20/20 [==============================] - 0s 12ms/step - loss: 0.2174 - accuracy: 0.9152 - val_loss: 0.3764 - val_accuracy: 0.8448\n",
      "Epoch 115/300\n"
     ]
    },
    {
     "name": "stdout",
     "output_type": "stream",
     "text": [
      "20/20 [==============================] - 0s 7ms/step - loss: 0.2313 - accuracy: 0.9157 - val_loss: 0.3741 - val_accuracy: 0.8544\n",
      "Epoch 116/300\n",
      "20/20 [==============================] - 0s 8ms/step - loss: 0.2120 - accuracy: 0.9171 - val_loss: 0.3768 - val_accuracy: 0.8464\n",
      "Epoch 117/300\n",
      "20/20 [==============================] - 0s 9ms/step - loss: 0.2302 - accuracy: 0.9114 - val_loss: 0.3766 - val_accuracy: 0.8496\n",
      "Epoch 118/300\n",
      "20/20 [==============================] - 0s 9ms/step - loss: 0.2155 - accuracy: 0.9132 - val_loss: 0.3782 - val_accuracy: 0.8400\n",
      "Epoch 119/300\n",
      "20/20 [==============================] - 0s 9ms/step - loss: 0.2471 - accuracy: 0.9072 - val_loss: 0.3767 - val_accuracy: 0.8624\n",
      "Epoch 120/300\n",
      "20/20 [==============================] - 0s 9ms/step - loss: 0.2215 - accuracy: 0.9170 - val_loss: 0.3771 - val_accuracy: 0.8592\n",
      "Epoch 121/300\n",
      "20/20 [==============================] - 0s 13ms/step - loss: 0.2172 - accuracy: 0.9135 - val_loss: 0.3876 - val_accuracy: 0.8384\n",
      "Epoch 122/300\n",
      "20/20 [==============================] - 0s 9ms/step - loss: 0.2272 - accuracy: 0.9242 - val_loss: 0.3819 - val_accuracy: 0.8384\n",
      "Epoch 123/300\n",
      "20/20 [==============================] - 0s 9ms/step - loss: 0.2340 - accuracy: 0.9151 - val_loss: 0.3795 - val_accuracy: 0.8624\n",
      "Epoch 124/300\n",
      "20/20 [==============================] - 0s 8ms/step - loss: 0.2009 - accuracy: 0.9272 - val_loss: 0.3875 - val_accuracy: 0.8432\n",
      "Epoch 125/300\n",
      "20/20 [==============================] - 0s 7ms/step - loss: 0.2248 - accuracy: 0.9042 - val_loss: 0.3831 - val_accuracy: 0.8448\n",
      "Epoch 126/300\n",
      "20/20 [==============================] - 0s 10ms/step - loss: 0.1914 - accuracy: 0.9276 - val_loss: 0.3822 - val_accuracy: 0.8480\n",
      "Epoch 127/300\n",
      "20/20 [==============================] - 0s 7ms/step - loss: 0.2141 - accuracy: 0.9226 - val_loss: 0.3956 - val_accuracy: 0.8320\n",
      "Epoch 128/300\n",
      "20/20 [==============================] - 0s 11ms/step - loss: 0.2608 - accuracy: 0.9114 - val_loss: 0.3871 - val_accuracy: 0.8576\n",
      "Epoch 129/300\n",
      "20/20 [==============================] - 0s 8ms/step - loss: 0.1842 - accuracy: 0.9212 - val_loss: 0.3909 - val_accuracy: 0.8416\n",
      "Epoch 130/300\n",
      "20/20 [==============================] - 0s 9ms/step - loss: 0.1953 - accuracy: 0.9339 - val_loss: 0.3878 - val_accuracy: 0.8496\n",
      "Epoch 131/300\n",
      "20/20 [==============================] - 0s 7ms/step - loss: 0.2367 - accuracy: 0.9167 - val_loss: 0.3890 - val_accuracy: 0.8512\n",
      "Epoch 132/300\n",
      "20/20 [==============================] - 0s 8ms/step - loss: 0.2151 - accuracy: 0.9258 - val_loss: 0.3919 - val_accuracy: 0.8416\n",
      "Epoch 133/300\n",
      "20/20 [==============================] - 0s 9ms/step - loss: 0.2114 - accuracy: 0.9204 - val_loss: 0.3915 - val_accuracy: 0.8464\n",
      "Epoch 134/300\n",
      "20/20 [==============================] - 0s 7ms/step - loss: 0.2327 - accuracy: 0.9123 - val_loss: 0.3907 - val_accuracy: 0.8512\n",
      "Epoch 135/300\n",
      "20/20 [==============================] - 0s 8ms/step - loss: 0.2060 - accuracy: 0.9231 - val_loss: 0.3901 - val_accuracy: 0.8480\n",
      "Epoch 136/300\n",
      "20/20 [==============================] - 0s 8ms/step - loss: 0.1868 - accuracy: 0.9308 - val_loss: 0.3903 - val_accuracy: 0.8448\n",
      "Epoch 137/300\n",
      "20/20 [==============================] - 0s 7ms/step - loss: 0.1725 - accuracy: 0.9404 - val_loss: 0.4027 - val_accuracy: 0.8416\n",
      "Epoch 138/300\n",
      "20/20 [==============================] - 0s 8ms/step - loss: 0.1820 - accuracy: 0.9412 - val_loss: 0.3959 - val_accuracy: 0.8496\n",
      "Epoch 139/300\n",
      "20/20 [==============================] - 0s 7ms/step - loss: 0.1937 - accuracy: 0.9308 - val_loss: 0.3975 - val_accuracy: 0.8480\n",
      "Epoch 140/300\n",
      "20/20 [==============================] - 0s 10ms/step - loss: 0.2267 - accuracy: 0.9100 - val_loss: 0.4051 - val_accuracy: 0.8560\n",
      "Epoch 141/300\n",
      "20/20 [==============================] - 0s 9ms/step - loss: 0.2189 - accuracy: 0.9189 - val_loss: 0.3973 - val_accuracy: 0.8448\n",
      "Epoch 142/300\n",
      "20/20 [==============================] - 0s 8ms/step - loss: 0.1960 - accuracy: 0.9389 - val_loss: 0.4014 - val_accuracy: 0.8432\n",
      "Epoch 143/300\n",
      "20/20 [==============================] - 0s 7ms/step - loss: 0.1819 - accuracy: 0.9310 - val_loss: 0.4061 - val_accuracy: 0.8448\n",
      "Epoch 144/300\n",
      "20/20 [==============================] - 0s 7ms/step - loss: 0.1749 - accuracy: 0.9500 - val_loss: 0.4099 - val_accuracy: 0.8416\n",
      "Epoch 145/300\n",
      "20/20 [==============================] - 0s 9ms/step - loss: 0.1876 - accuracy: 0.9421 - val_loss: 0.4077 - val_accuracy: 0.8432\n",
      "Epoch 146/300\n",
      "20/20 [==============================] - 0s 7ms/step - loss: 0.1913 - accuracy: 0.9385 - val_loss: 0.4063 - val_accuracy: 0.8416\n",
      "Epoch 147/300\n",
      "20/20 [==============================] - 0s 8ms/step - loss: 0.1662 - accuracy: 0.9507 - val_loss: 0.4189 - val_accuracy: 0.8352\n"
     ]
    }
   ],
   "source": [
    "early_stopping = EarlyStopping(\n",
    "    monitor='val_loss',\n",
    "    min_delta=0.00001,\n",
    "    patience=40,\n",
    "    restore_best_weights=True,)\n",
    "history = model.fit(X_train, y_train, validation_data= (X_test, y_test), batch_size=32,epochs=300, callbacks=[early_stopping])"
   ]
  },
  {
   "cell_type": "code",
   "execution_count": 542,
   "id": "dd772497",
   "metadata": {},
   "outputs": [
    {
     "data": {
      "image/png": "[encoded data removed]",
      "text/plain": [
       "<Figure size 576x360 with 1 Axes>"
      ]
     },
     "metadata": {},
     "output_type": "display_data"
    }
   ],
   "source": [
    "pd.DataFrame(history.history).plot(figsize=(8, 5))\n",
    "plt.grid(True)\n",
    "plt.gca().set_ylim(0, 1)\n",
    "plt.show()"
   ]
  },
  {
   "cell_type": "code",
   "execution_count": 543,
   "id": "91f07d93",
   "metadata": {},
   "outputs": [
    {
     "name": "stdout",
     "output_type": "stream",
     "text": [
      "20/20 [==============================] - 0s 2ms/step - loss: 0.3715 - accuracy: 0.8512\n"
     ]
    },
    {
     "data": {
      "text/plain": [
       "[0.3714609742164612, 0.8511999845504761]"
      ]
     },
     "execution_count": 543,
     "metadata": {},
     "output_type": "execute_result"
    }
   ],
   "source": [
    "model.evaluate(X_test,y_test)"
   ]
  },
  {
   "cell_type": "code",
   "execution_count": 563,
   "id": "29589bc1",
   "metadata": {},
   "outputs": [
    {
     "data": {
      "text/plain": [
       "<AxesSubplot:>"
      ]
     },
     "execution_count": 563,
     "metadata": {},
     "output_type": "execute_result"
    },
    {
     "data": {
      "image/png": "[encoded data removed]",
      "text/plain": [
       "<Figure size 864x576 with 2 Axes>"
      ]
     },
     "metadata": {},
     "output_type": "display_data"
    }
   ],
   "source": [
    "y_pred = model.predict(X_test)\n",
    "y_pred = (y_pred > 0.5)\n",
    "\n",
    "plt.subplots(figsize=(12,8))\n",
    "cf_matrix = confusion_matrix(y_test, y_pred)\n",
    "sns.heatmap(cf_matrix/np.sum(cf_matrix), cmap = cmap1, linewidths=0.5, annot = True, annot_kws = {'size':15})"
   ]
  },
  {
   "cell_type": "markdown",
   "id": "ea9afe5f",
   "metadata": {},
   "source": [
    "# Podsumowanie"
   ]
  },
  {
   "cell_type": "markdown",
   "id": "f235f2ed",
   "metadata": {},
   "source": [
    "Dzięki użytym modelom jesteśmy w stanie przewidzieć czy następnego dnia będzie padał deszcz z prawdopodobieństwem około 80%."
   ]
  }
 ],
 "metadata": {
  "kernelspec": {
   "display_name": "Python 3",
   "language": "python",
   "name": "python3"
  },
  "language_info": {
   "codemirror_mode": {
    "name": "ipython",
    "version": 3
   },
   "file_extension": ".py",
   "mimetype": "text/x-python",
   "name": "python",
   "nbconvert_exporter": "python",
   "pygments_lexer": "ipython3",
   "version": "3.8.5"
  }
 },
 "nbformat": 4,
 "nbformat_minor": 5
}
